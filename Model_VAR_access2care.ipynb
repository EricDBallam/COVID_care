{
 "cells": [
  {
   "cell_type": "markdown",
   "metadata": {},
   "source": [
    "Author: Eric Ballam\n",
    "\n",
    "Date: 11/24/2021"
   ]
  },
  {
   "cell_type": "markdown",
   "metadata": {},
   "source": [
    "### Overview\n",
    "In this notebook we will be working on predicting when access to care will return to normal. For this we must know what normal means, according to the CDC on average 8% of Americans delay or do not get care so that will be our target number. We will also only be prediction the national average as the CDC didn't provide average access to care data for the other subgroup, so the subgroup United States will be our label. "
   ]
  },
  {
   "cell_type": "code",
   "execution_count": 1,
   "metadata": {},
   "outputs": [
    {
     "data": {
      "text/html": [
       "<style>.container { width:100% !important; }</style>"
      ],
      "text/plain": [
       "<IPython.core.display.HTML object>"
      ]
     },
     "metadata": {},
     "output_type": "display_data"
    }
   ],
   "source": [
    "from IPython.core.display import display, HTML\n",
    "display(HTML(\"<style>.container { width:100% !important; }</style>\"))\n",
    "\n",
    "import pandas as pd\n",
    "import datetime\n",
    "import matplotlib.pyplot as plt\n",
    "\n",
    "from scipy.stats import pearsonr\n",
    "from statsmodels.tsa.stattools import adfuller\n",
    "from statsmodels.tsa.vector_ar.var_model import VAR\n",
    "from sklearn.metrics import mean_squared_error\n",
    "from numpy import log\n",
    "\n",
    "import warnings\n",
    "warnings.filterwarnings('ignore')"
   ]
  },
  {
   "cell_type": "code",
   "execution_count": 2,
   "metadata": {},
   "outputs": [
    {
     "data": {
      "text/html": [
       "<div>\n",
       "<style scoped>\n",
       "    .dataframe tbody tr th:only-of-type {\n",
       "        vertical-align: middle;\n",
       "    }\n",
       "\n",
       "    .dataframe tbody tr th {\n",
       "        vertical-align: top;\n",
       "    }\n",
       "\n",
       "    .dataframe thead th {\n",
       "        text-align: right;\n",
       "    }\n",
       "</style>\n",
       "<table border=\"1\" class=\"dataframe\">\n",
       "  <thead>\n",
       "    <tr style=\"text-align: right;\">\n",
       "      <th></th>\n",
       "      <th>Subgroup</th>\n",
       "      <th>Phase</th>\n",
       "      <th>Time Period</th>\n",
       "      <th>Time Period Start Date</th>\n",
       "      <th>Time Period End Date</th>\n",
       "      <th>Value</th>\n",
       "      <th>Low CI</th>\n",
       "      <th>High CI</th>\n",
       "    </tr>\n",
       "  </thead>\n",
       "  <tbody>\n",
       "    <tr>\n",
       "      <th>0</th>\n",
       "      <td>United States</td>\n",
       "      <td>1</td>\n",
       "      <td>1</td>\n",
       "      <td>2020-04-23</td>\n",
       "      <td>2020-05-05</td>\n",
       "      <td>43.7</td>\n",
       "      <td>43.1</td>\n",
       "      <td>44.3</td>\n",
       "    </tr>\n",
       "    <tr>\n",
       "      <th>1</th>\n",
       "      <td>18 - 29 years</td>\n",
       "      <td>1</td>\n",
       "      <td>1</td>\n",
       "      <td>2020-04-23</td>\n",
       "      <td>2020-05-05</td>\n",
       "      <td>40.8</td>\n",
       "      <td>38.3</td>\n",
       "      <td>43.4</td>\n",
       "    </tr>\n",
       "    <tr>\n",
       "      <th>2</th>\n",
       "      <td>30 - 39 years</td>\n",
       "      <td>1</td>\n",
       "      <td>1</td>\n",
       "      <td>2020-04-23</td>\n",
       "      <td>2020-05-05</td>\n",
       "      <td>41.8</td>\n",
       "      <td>40.1</td>\n",
       "      <td>43.5</td>\n",
       "    </tr>\n",
       "    <tr>\n",
       "      <th>3</th>\n",
       "      <td>40 - 49 years</td>\n",
       "      <td>1</td>\n",
       "      <td>1</td>\n",
       "      <td>2020-04-23</td>\n",
       "      <td>2020-05-05</td>\n",
       "      <td>45.6</td>\n",
       "      <td>44.0</td>\n",
       "      <td>47.2</td>\n",
       "    </tr>\n",
       "    <tr>\n",
       "      <th>4</th>\n",
       "      <td>50 - 59 years</td>\n",
       "      <td>1</td>\n",
       "      <td>1</td>\n",
       "      <td>2020-04-23</td>\n",
       "      <td>2020-05-05</td>\n",
       "      <td>46.0</td>\n",
       "      <td>44.5</td>\n",
       "      <td>47.5</td>\n",
       "    </tr>\n",
       "  </tbody>\n",
       "</table>\n",
       "</div>"
      ],
      "text/plain": [
       "        Subgroup  Phase  Time Period Time Period Start Date  \\\n",
       "0  United States      1            1             2020-04-23   \n",
       "1  18 - 29 years      1            1             2020-04-23   \n",
       "2  30 - 39 years      1            1             2020-04-23   \n",
       "3  40 - 49 years      1            1             2020-04-23   \n",
       "4  50 - 59 years      1            1             2020-04-23   \n",
       "\n",
       "  Time Period End Date  Value  Low CI  High CI  \n",
       "0           2020-05-05   43.7    43.1     44.3  \n",
       "1           2020-05-05   40.8    38.3     43.4  \n",
       "2           2020-05-05   41.8    40.1     43.5  \n",
       "3           2020-05-05   45.6    44.0     47.2  \n",
       "4           2020-05-05   46.0    44.5     47.5  "
      ]
     },
     "execution_count": 2,
     "metadata": {},
     "output_type": "execute_result"
    }
   ],
   "source": [
    "# Loading in data and converting dates to datetime objects\n",
    "\n",
    "month = 'MAR'\n",
    "\n",
    "df = pd.read_csv(f\"DATA/DATAFRAME_{month}_accessToCare.csv\")\n",
    "df.loc[:,'Time Period Start Date'] = df['Time Period Start Date'].apply(lambda x: datetime.datetime.strptime(x, '%Y-%m-%d').date()) \n",
    "df.loc[:,'Time Period End Date'] = df['Time Period End Date'].apply(lambda x: datetime.datetime.strptime(x, '%Y-%m-%d').date())\n",
    "\n",
    "df.head()"
   ]
  },
  {
   "cell_type": "markdown",
   "metadata": {},
   "source": [
    "#### Correlation \n",
    "When working on our visulaizations it was clear that the data was heavly correlated. Many of the subgroups tracked very closely with our label of the United States. Before we can begin modeling we must identify and remove the heavily correlated features to prevent out model from becoming overfit. "
   ]
  },
  {
   "cell_type": "code",
   "execution_count": 3,
   "metadata": {},
   "outputs": [
    {
     "data": {
      "text/html": [
       "<div>\n",
       "<style scoped>\n",
       "    .dataframe tbody tr th:only-of-type {\n",
       "        vertical-align: middle;\n",
       "    }\n",
       "\n",
       "    .dataframe tbody tr th {\n",
       "        vertical-align: top;\n",
       "    }\n",
       "\n",
       "    .dataframe thead th {\n",
       "        text-align: right;\n",
       "    }\n",
       "</style>\n",
       "<table border=\"1\" class=\"dataframe\">\n",
       "  <thead>\n",
       "    <tr style=\"text-align: right;\">\n",
       "      <th></th>\n",
       "      <th></th>\n",
       "      <th>Phase</th>\n",
       "      <th>Value</th>\n",
       "      <th>Low CI</th>\n",
       "      <th>High CI</th>\n",
       "    </tr>\n",
       "    <tr>\n",
       "      <th>Subgroup</th>\n",
       "      <th>Time Period</th>\n",
       "      <th></th>\n",
       "      <th></th>\n",
       "      <th></th>\n",
       "      <th></th>\n",
       "    </tr>\n",
       "  </thead>\n",
       "  <tbody>\n",
       "    <tr>\n",
       "      <th rowspan=\"5\" valign=\"top\">18 - 29 years</th>\n",
       "      <th>1</th>\n",
       "      <td>1</td>\n",
       "      <td>40.8</td>\n",
       "      <td>38.3</td>\n",
       "      <td>43.4</td>\n",
       "    </tr>\n",
       "    <tr>\n",
       "      <th>2</th>\n",
       "      <td>1</td>\n",
       "      <td>43.4</td>\n",
       "      <td>39.3</td>\n",
       "      <td>47.6</td>\n",
       "    </tr>\n",
       "    <tr>\n",
       "      <th>3</th>\n",
       "      <td>1</td>\n",
       "      <td>41.0</td>\n",
       "      <td>38.9</td>\n",
       "      <td>43.2</td>\n",
       "    </tr>\n",
       "    <tr>\n",
       "      <th>4</th>\n",
       "      <td>1</td>\n",
       "      <td>38.5</td>\n",
       "      <td>36.4</td>\n",
       "      <td>40.7</td>\n",
       "    </tr>\n",
       "    <tr>\n",
       "      <th>5</th>\n",
       "      <td>1</td>\n",
       "      <td>39.6</td>\n",
       "      <td>37.2</td>\n",
       "      <td>42.1</td>\n",
       "    </tr>\n",
       "  </tbody>\n",
       "</table>\n",
       "</div>"
      ],
      "text/plain": [
       "                           Phase  Value  Low CI  High CI\n",
       "Subgroup      Time Period                               \n",
       "18 - 29 years 1                1   40.8    38.3     43.4\n",
       "              2                1   43.4    39.3     47.6\n",
       "              3                1   41.0    38.9     43.2\n",
       "              4                1   38.5    36.4     40.7\n",
       "              5                1   39.6    37.2     42.1"
      ]
     },
     "execution_count": 3,
     "metadata": {},
     "output_type": "execute_result"
    }
   ],
   "source": [
    "# Reshaping the data to make it easier to work to check for correlations\n",
    "\n",
    "data = df.groupby(['Subgroup', 'Time Period']).mean()\n",
    "data.head()"
   ]
  },
  {
   "cell_type": "code",
   "execution_count": 4,
   "metadata": {},
   "outputs": [
    {
     "data": {
      "text/html": [
       "<div>\n",
       "<style scoped>\n",
       "    .dataframe tbody tr th:only-of-type {\n",
       "        vertical-align: middle;\n",
       "    }\n",
       "\n",
       "    .dataframe tbody tr th {\n",
       "        vertical-align: top;\n",
       "    }\n",
       "\n",
       "    .dataframe thead th {\n",
       "        text-align: right;\n",
       "    }\n",
       "</style>\n",
       "<table border=\"1\" class=\"dataframe\">\n",
       "  <thead>\n",
       "    <tr style=\"text-align: right;\">\n",
       "      <th></th>\n",
       "      <th>corr</th>\n",
       "    </tr>\n",
       "  </thead>\n",
       "  <tbody>\n",
       "    <tr>\n",
       "      <th>United States</th>\n",
       "      <td>1.000000</td>\n",
       "    </tr>\n",
       "    <tr>\n",
       "      <th>18 - 29 years</th>\n",
       "      <td>0.763270</td>\n",
       "    </tr>\n",
       "    <tr>\n",
       "      <th>30 - 39 years</th>\n",
       "      <td>0.933244</td>\n",
       "    </tr>\n",
       "    <tr>\n",
       "      <th>40 - 49 years</th>\n",
       "      <td>0.978078</td>\n",
       "    </tr>\n",
       "    <tr>\n",
       "      <th>50 - 59 years</th>\n",
       "      <td>0.983449</td>\n",
       "    </tr>\n",
       "    <tr>\n",
       "      <th>60 - 69 years</th>\n",
       "      <td>0.981236</td>\n",
       "    </tr>\n",
       "    <tr>\n",
       "      <th>70 - 79 years</th>\n",
       "      <td>0.956387</td>\n",
       "    </tr>\n",
       "    <tr>\n",
       "      <th>80 years and above</th>\n",
       "      <td>0.868199</td>\n",
       "    </tr>\n",
       "    <tr>\n",
       "      <th>Male</th>\n",
       "      <td>0.993919</td>\n",
       "    </tr>\n",
       "    <tr>\n",
       "      <th>Female</th>\n",
       "      <td>0.996014</td>\n",
       "    </tr>\n",
       "    <tr>\n",
       "      <th>Hispanic or Latino</th>\n",
       "      <td>0.593223</td>\n",
       "    </tr>\n",
       "    <tr>\n",
       "      <th>Non-Hispanic white, single race</th>\n",
       "      <td>0.995028</td>\n",
       "    </tr>\n",
       "    <tr>\n",
       "      <th>Non-Hispanic black, single race</th>\n",
       "      <td>0.955610</td>\n",
       "    </tr>\n",
       "    <tr>\n",
       "      <th>Non-Hispanic Asian, single race</th>\n",
       "      <td>0.585977</td>\n",
       "    </tr>\n",
       "    <tr>\n",
       "      <th>Non-Hispanic, other races and multiple races</th>\n",
       "      <td>0.898257</td>\n",
       "    </tr>\n",
       "    <tr>\n",
       "      <th>Less than a high school diploma</th>\n",
       "      <td>0.498939</td>\n",
       "    </tr>\n",
       "    <tr>\n",
       "      <th>High school diploma or GED</th>\n",
       "      <td>0.979565</td>\n",
       "    </tr>\n",
       "    <tr>\n",
       "      <th>Some college/Associate's degree</th>\n",
       "      <td>0.985223</td>\n",
       "    </tr>\n",
       "    <tr>\n",
       "      <th>Bachelor's degree or higher</th>\n",
       "      <td>0.982271</td>\n",
       "    </tr>\n",
       "    <tr>\n",
       "      <th>Alabama</th>\n",
       "      <td>0.865836</td>\n",
       "    </tr>\n",
       "  </tbody>\n",
       "</table>\n",
       "</div>"
      ],
      "text/plain": [
       "                                                  corr\n",
       "United States                                 1.000000\n",
       "18 - 29 years                                 0.763270\n",
       "30 - 39 years                                 0.933244\n",
       "40 - 49 years                                 0.978078\n",
       "50 - 59 years                                 0.983449\n",
       "60 - 69 years                                 0.981236\n",
       "70 - 79 years                                 0.956387\n",
       "80 years and above                            0.868199\n",
       "Male                                          0.993919\n",
       "Female                                        0.996014\n",
       "Hispanic or Latino                            0.593223\n",
       "Non-Hispanic white, single race               0.995028\n",
       "Non-Hispanic black, single race               0.955610\n",
       "Non-Hispanic Asian, single race               0.585977\n",
       "Non-Hispanic, other races and multiple races  0.898257\n",
       "Less than a high school diploma               0.498939\n",
       "High school diploma or GED                    0.979565\n",
       "Some college/Associate's degree               0.985223\n",
       "Bachelor's degree or higher                   0.982271\n",
       "Alabama                                       0.865836"
      ]
     },
     "execution_count": 4,
     "metadata": {},
     "output_type": "execute_result"
    }
   ],
   "source": [
    "# Using Pearsons R between the United States and the other subgroups shows us that many of the subgroups are heavily correlated with our label\n",
    "\n",
    "c = []\n",
    "\n",
    "for i in df.Subgroup.unique():\n",
    "    corr, _ = pearsonr(data.loc['United States'].Value, data.loc[i].Value)\n",
    "    c.append(corr)\n",
    "pd.DataFrame(c, index = df.Subgroup.unique(), columns = ['corr']).head(20)"
   ]
  },
  {
   "cell_type": "code",
   "execution_count": 5,
   "metadata": {},
   "outputs": [
    {
     "data": {
      "text/plain": [
       "['United States',\n",
       " 'Hispanic or Latino',\n",
       " 'Non-Hispanic Asian, single race',\n",
       " 'Less than a high school diploma',\n",
       " 'District of Columbia',\n",
       " 'Hawaii',\n",
       " 'New Mexico',\n",
       " 'West Virginia']"
      ]
     },
     "execution_count": 5,
     "metadata": {},
     "output_type": "execute_result"
    }
   ],
   "source": [
    "# For this analysis we will remove any subgroup that is more then 70% correlated with the label, this left only 8 features to train on. \n",
    "\n",
    "labels = pd.DataFrame(c, index = df.Subgroup.unique())\n",
    "labels.columns = ['corr']\n",
    "labels = ['United States'] + list(labels[labels['corr'] <= 0.7].index)\n",
    "labels"
   ]
  },
  {
   "cell_type": "markdown",
   "metadata": {},
   "source": [
    "#### Modeling \n",
    "For this probject we clearly have time series multivariate data, thus we will use a vector autoregression model. From our visulaization we can see that our data doesn't have an seasional components so we can proceed without needing to check or correct for that. "
   ]
  },
  {
   "cell_type": "code",
   "execution_count": 6,
   "metadata": {
    "scrolled": true
   },
   "outputs": [],
   "source": [
    "# Reshaping the data to make it easier to model with\n",
    "\n",
    "row = []\n",
    "for i in df.Subgroup.unique():\n",
    "    row.append(list(data.loc[i].Value))\n",
    "dfM = pd.DataFrame(row).T\n",
    "dfM.columns = df.Subgroup.unique()\n",
    "\n",
    "# Setting up training data\n",
    "train = dfM[:-5]\n",
    "train.columns = df.Subgroup.unique()\n",
    "train = train[labels]\n",
    "\n",
    "# Setting up validation data\n",
    "val = dfM[-5:]\n",
    "val.columns = df.Subgroup.unique()\n",
    "val = val[labels]\n",
    "# val"
   ]
  },
  {
   "cell_type": "code",
   "execution_count": 7,
   "metadata": {},
   "outputs": [],
   "source": [
    "# Checking lag factors between 1 and 8\n",
    "\n",
    "results = []\n",
    "\n",
    "for i in range(1,9):\n",
    "    \n",
    "    # set up model     \n",
    "    model = VAR(train)\n",
    "    model_fit = model.fit(maxlags = i)\n",
    "    \n",
    "    # make prediction\n",
    "    yhat = model_fit.forecast(model_fit.y, steps=5)\n",
    "    \n",
    "    # converting the results into a dataframe\n",
    "    pred = pd.DataFrame(index=range(0,len(yhat)),columns=[labels])\n",
    "    for j in range(0,len(labels)):\n",
    "        for i in range(0, 5):\n",
    "           pred.iloc[i][j] = yhat[i][j]\n",
    "\n",
    "    # calculating the error between the predictions and the validation data\n",
    "    results.append((mean_squared_error(pred.iloc[:,0], val.iloc[:,0]))**(1/2))"
   ]
  },
  {
   "cell_type": "code",
   "execution_count": 8,
   "metadata": {},
   "outputs": [
    {
     "data": {
      "image/png": "[encoded data removed]",
      "text/plain": [
       "<Figure size 720x360 with 1 Axes>"
      ]
     },
     "metadata": {
      "needs_background": "light"
     },
     "output_type": "display_data"
    }
   ],
   "source": [
    "# Plotting and selecting the best lag factor\n",
    "\n",
    "best_lag = results.index(min(results))+1\n",
    "\n",
    "fig, ax = plt.subplots(figsize=(10,5))\n",
    "ax.scatter(range(1,len(results)+1), results)\n",
    "ax.grid()\n",
    "ax.set_title('VAR best lag: ' + str(best_lag), fontsize=18)\n",
    "ax.set_ylabel('Error', fontsize=14)\n",
    "ax.set_xlabel('Number of lags', fontsize=14)\n",
    "\n",
    "plt.savefig('Images/lags.png')"
   ]
  },
  {
   "cell_type": "code",
   "execution_count": 9,
   "metadata": {},
   "outputs": [],
   "source": [
    "# Training out VAR model with the selected lag factor\n",
    "\n",
    "model = VAR(train)\n",
    "model_fit = model.fit(maxlags = best_lag, )\n",
    "\n",
    "# make prediction\n",
    "yhat = model_fit.forecast(model_fit.y, steps=5)\n",
    "\n",
    "pred = pd.DataFrame(index=range(0,len(yhat)),columns=[labels])\n",
    "for j in range(0,len(labels)):\n",
    "    for i in range(0, 5):\n",
    "       pred.iloc[i][j] = yhat[i][j]"
   ]
  },
  {
   "cell_type": "code",
   "execution_count": 11,
   "metadata": {},
   "outputs": [
    {
     "data": {
      "image/png": "[encoded data removed]",
      "text/plain": [
       "<Figure size 720x360 with 1 Axes>"
      ]
     },
     "metadata": {
      "needs_background": "light"
     },
     "output_type": "display_data"
    }
   ],
   "source": [
    "# Plotting modeling results\n",
    "\n",
    "dates = list((df['Time Period Start Date'].unique()))\n",
    "fig, ax = plt.subplots(figsize=(10,5))\n",
    "ax.scatter(dates[0:-5], train['United States'], color = 'b', label = 'Training data')\n",
    "ax.scatter(dates[-5:], val['United States'], color = 'g', label = 'Validation data')\n",
    "ax.scatter(dates[-5:], pred[['United States']], color = 'r', label = 'VAR prediction')\n",
    "\n",
    "ax.grid()\n",
    "ax.set_title('United States' + ' (VAR)', fontsize=18)\n",
    "ax.set_ylabel('Percent with reduced or no care', fontsize=14)\n",
    "ax.set_xlabel('Date', fontsize=14)\n",
    "ax.legend()\n",
    "plt.savefig('Images/VAR.png')"
   ]
  },
  {
   "cell_type": "markdown",
   "metadata": {},
   "source": [
    "#### VAR results\n",
    "The VAR model clearly under predicts our validation data. This was using the best lag varable so we will continue with our analysis.\n",
    "\n",
    "On thing that is obvious are the gaps in the data, after each one the data shifts dramatically. Our current model doesn't take that into account. For future improvements we could look into taking the gaps into account, possibly by imputing the \"missing\" data. \n",
    "\n",
    "For now we will use the model to predict future values and try to determine when access to care will return to normal. Which, according to the CDC, is around 8%. "
   ]
  },
  {
   "cell_type": "code",
   "execution_count": 12,
   "metadata": {},
   "outputs": [],
   "source": [
    "# Modeling future data using the entire dataset available and the best lag previously determined\n",
    "\n",
    "addLabel = []\n",
    "steps = 16\n",
    "\n",
    "model = VAR(dfM[labels + addLabel])\n",
    "model_fit = model.fit(maxlags = best_lag)\n",
    "\n",
    "# make prediction\n",
    "yhat = model_fit.forecast(model_fit.y, steps=steps)\n",
    "\n",
    "pred = pd.DataFrame(index=range(0,len(yhat)),columns=[labels + addLabel])\n",
    "for j in range(0,len(labels)+len(addLabel)):\n",
    "    for i in range(0, steps):\n",
    "        pred.iloc[i][j] = yhat[i][j]"
   ]
  },
  {
   "cell_type": "code",
   "execution_count": 13,
   "metadata": {},
   "outputs": [
    {
     "data": {
      "image/png": "[encoded data removed]",
      "text/plain": [
       "<Figure size 720x360 with 1 Axes>"
      ]
     },
     "metadata": {
      "needs_background": "light"
     },
     "output_type": "display_data"
    }
   ],
   "source": [
    "# Plotting future data\n",
    "\n",
    "# setting the future dates\n",
    "extDates = []\n",
    "u = dates[-1]\n",
    "d = datetime.timedelta(weeks = 2)\n",
    "for i in range(steps):\n",
    "    t = u + d\n",
    "    u = t\n",
    "    extDates.append(t)\n",
    "\n",
    "# creating the plot\n",
    "i = 'United States'\n",
    "fig, ax = plt.subplots(figsize=(10,5))\n",
    "ax.scatter(dates, data.loc[i]['Value'], color = 'b', label = 'CDC data')\n",
    "ax.scatter(extDates, list(pred.T.loc[i].values), color='r', label = 'VAR predictions')\n",
    "ax.grid()\n",
    "ax.set_title(i + ' (VAR)', fontsize=18)\n",
    "ax.set_ylabel('Percent with reduced or no care', fontsize=14)\n",
    "ax.set_xlabel('Date', fontsize=14)\n",
    "ax.legend()\n",
    "plt.tight_layout()\n",
    "plt.savefig('Images/VARpredict.png')"
   ]
  },
  {
   "cell_type": "markdown",
   "metadata": {},
   "source": [
    "#### VAR future predictions\n",
    "Despite our models somewhat poor performance against the validation data the future predictions looks pretty reasonable. The model indicates that access to care would return to normal on 10/13/2021. "
   ]
  },
  {
   "cell_type": "markdown",
   "metadata": {},
   "source": [
    "#### VAR future predictions vs actual data\n",
    "The previous analysis was done in April 2021 using data collected up to 02/03/2021. In September 2021 CDC data was recollected to check the model performance. The new data included data up to 6/23/2021 allowing us to check a few months of data against our predictions. "
   ]
  },
  {
   "cell_type": "code",
   "execution_count": 14,
   "metadata": {},
   "outputs": [],
   "source": [
    "month = 'JUN'\n",
    "df = pd.read_csv(f\"DATA/DATAFRAME_{month}_accessToCare.csv\")\n",
    "df.loc[:,'Time Period Start Date'] = df['Time Period Start Date'].apply(lambda x: datetime.datetime.strptime(x, '%Y-%m-%d').date()) \n",
    "df.loc[:,'Time Period End Date'] = df['Time Period End Date'].apply(lambda x: datetime.datetime.strptime(x, '%Y-%m-%d').date()) \n",
    "\n",
    "data_aug = df.groupby(['Subgroup', 'Time Period']).mean()"
   ]
  },
  {
   "cell_type": "code",
   "execution_count": 15,
   "metadata": {},
   "outputs": [
    {
     "data": {
      "text/html": [
       "<div>\n",
       "<style scoped>\n",
       "    .dataframe tbody tr th:only-of-type {\n",
       "        vertical-align: middle;\n",
       "    }\n",
       "\n",
       "    .dataframe tbody tr th {\n",
       "        vertical-align: top;\n",
       "    }\n",
       "\n",
       "    .dataframe thead th {\n",
       "        text-align: right;\n",
       "    }\n",
       "</style>\n",
       "<table border=\"1\" class=\"dataframe\">\n",
       "  <thead>\n",
       "    <tr style=\"text-align: right;\">\n",
       "      <th></th>\n",
       "      <th>United States</th>\n",
       "      <th>18 - 29 years</th>\n",
       "      <th>30 - 39 years</th>\n",
       "      <th>40 - 49 years</th>\n",
       "      <th>50 - 59 years</th>\n",
       "      <th>60 - 69 years</th>\n",
       "      <th>70 - 79 years</th>\n",
       "      <th>80 years and above</th>\n",
       "      <th>Male</th>\n",
       "      <th>Female</th>\n",
       "      <th>...</th>\n",
       "      <th>South Dakota</th>\n",
       "      <th>Tennessee</th>\n",
       "      <th>Texas</th>\n",
       "      <th>Utah</th>\n",
       "      <th>Vermont</th>\n",
       "      <th>Virginia</th>\n",
       "      <th>Washington</th>\n",
       "      <th>West Virginia</th>\n",
       "      <th>Wisconsin</th>\n",
       "      <th>Wyoming</th>\n",
       "    </tr>\n",
       "  </thead>\n",
       "  <tbody>\n",
       "    <tr>\n",
       "      <th>0</th>\n",
       "      <td>43.7</td>\n",
       "      <td>40.8</td>\n",
       "      <td>41.8</td>\n",
       "      <td>45.6</td>\n",
       "      <td>46.0</td>\n",
       "      <td>46.4</td>\n",
       "      <td>42.2</td>\n",
       "      <td>35.6</td>\n",
       "      <td>40.1</td>\n",
       "      <td>47.1</td>\n",
       "      <td>...</td>\n",
       "      <td>45.5</td>\n",
       "      <td>42.9</td>\n",
       "      <td>40.6</td>\n",
       "      <td>43.3</td>\n",
       "      <td>48.5</td>\n",
       "      <td>47.0</td>\n",
       "      <td>47.7</td>\n",
       "      <td>43.7</td>\n",
       "      <td>45.3</td>\n",
       "      <td>39.3</td>\n",
       "    </tr>\n",
       "    <tr>\n",
       "      <th>1</th>\n",
       "      <td>45.5</td>\n",
       "      <td>43.4</td>\n",
       "      <td>45.1</td>\n",
       "      <td>46.8</td>\n",
       "      <td>49.5</td>\n",
       "      <td>44.2</td>\n",
       "      <td>41.3</td>\n",
       "      <td>47.8</td>\n",
       "      <td>42.2</td>\n",
       "      <td>48.7</td>\n",
       "      <td>...</td>\n",
       "      <td>41.3</td>\n",
       "      <td>47.2</td>\n",
       "      <td>39.7</td>\n",
       "      <td>39.2</td>\n",
       "      <td>47.1</td>\n",
       "      <td>50.4</td>\n",
       "      <td>50.9</td>\n",
       "      <td>45.6</td>\n",
       "      <td>46.6</td>\n",
       "      <td>44.8</td>\n",
       "    </tr>\n",
       "    <tr>\n",
       "      <th>2</th>\n",
       "      <td>44.8</td>\n",
       "      <td>41.0</td>\n",
       "      <td>44.2</td>\n",
       "      <td>45.7</td>\n",
       "      <td>48.7</td>\n",
       "      <td>46.6</td>\n",
       "      <td>41.0</td>\n",
       "      <td>43.7</td>\n",
       "      <td>41.3</td>\n",
       "      <td>48.1</td>\n",
       "      <td>...</td>\n",
       "      <td>38.1</td>\n",
       "      <td>44.6</td>\n",
       "      <td>41.2</td>\n",
       "      <td>37.2</td>\n",
       "      <td>52.5</td>\n",
       "      <td>44.6</td>\n",
       "      <td>48.4</td>\n",
       "      <td>34.9</td>\n",
       "      <td>42.9</td>\n",
       "      <td>48.9</td>\n",
       "    </tr>\n",
       "    <tr>\n",
       "      <th>3</th>\n",
       "      <td>44.9</td>\n",
       "      <td>38.5</td>\n",
       "      <td>43.9</td>\n",
       "      <td>47.2</td>\n",
       "      <td>49.8</td>\n",
       "      <td>46.9</td>\n",
       "      <td>41.8</td>\n",
       "      <td>45.0</td>\n",
       "      <td>41.3</td>\n",
       "      <td>48.3</td>\n",
       "      <td>...</td>\n",
       "      <td>39.3</td>\n",
       "      <td>42.8</td>\n",
       "      <td>43.7</td>\n",
       "      <td>41.1</td>\n",
       "      <td>45.2</td>\n",
       "      <td>44.6</td>\n",
       "      <td>43.5</td>\n",
       "      <td>43.0</td>\n",
       "      <td>45.9</td>\n",
       "      <td>46.1</td>\n",
       "    </tr>\n",
       "    <tr>\n",
       "      <th>4</th>\n",
       "      <td>45.5</td>\n",
       "      <td>39.6</td>\n",
       "      <td>45.9</td>\n",
       "      <td>47.4</td>\n",
       "      <td>49.9</td>\n",
       "      <td>46.9</td>\n",
       "      <td>42.3</td>\n",
       "      <td>40.3</td>\n",
       "      <td>41.2</td>\n",
       "      <td>49.6</td>\n",
       "      <td>...</td>\n",
       "      <td>41.2</td>\n",
       "      <td>38.0</td>\n",
       "      <td>43.8</td>\n",
       "      <td>43.1</td>\n",
       "      <td>44.3</td>\n",
       "      <td>40.9</td>\n",
       "      <td>47.5</td>\n",
       "      <td>45.7</td>\n",
       "      <td>44.5</td>\n",
       "      <td>45.7</td>\n",
       "    </tr>\n",
       "  </tbody>\n",
       "</table>\n",
       "<p>5 rows × 70 columns</p>\n",
       "</div>"
      ],
      "text/plain": [
       "   United States  18 - 29 years  30 - 39 years  40 - 49 years  50 - 59 years  \\\n",
       "0           43.7           40.8           41.8           45.6           46.0   \n",
       "1           45.5           43.4           45.1           46.8           49.5   \n",
       "2           44.8           41.0           44.2           45.7           48.7   \n",
       "3           44.9           38.5           43.9           47.2           49.8   \n",
       "4           45.5           39.6           45.9           47.4           49.9   \n",
       "\n",
       "   60 - 69 years  70 - 79 years  80 years and above  Male  Female  ...  \\\n",
       "0           46.4           42.2                35.6  40.1    47.1  ...   \n",
       "1           44.2           41.3                47.8  42.2    48.7  ...   \n",
       "2           46.6           41.0                43.7  41.3    48.1  ...   \n",
       "3           46.9           41.8                45.0  41.3    48.3  ...   \n",
       "4           46.9           42.3                40.3  41.2    49.6  ...   \n",
       "\n",
       "   South Dakota  Tennessee  Texas  Utah  Vermont  Virginia  Washington  \\\n",
       "0          45.5       42.9   40.6  43.3     48.5      47.0        47.7   \n",
       "1          41.3       47.2   39.7  39.2     47.1      50.4        50.9   \n",
       "2          38.1       44.6   41.2  37.2     52.5      44.6        48.4   \n",
       "3          39.3       42.8   43.7  41.1     45.2      44.6        43.5   \n",
       "4          41.2       38.0   43.8  43.1     44.3      40.9        47.5   \n",
       "\n",
       "   West Virginia  Wisconsin  Wyoming  \n",
       "0           43.7       45.3     39.3  \n",
       "1           45.6       46.6     44.8  \n",
       "2           34.9       42.9     48.9  \n",
       "3           43.0       45.9     46.1  \n",
       "4           45.7       44.5     45.7  \n",
       "\n",
       "[5 rows x 70 columns]"
      ]
     },
     "execution_count": 15,
     "metadata": {},
     "output_type": "execute_result"
    }
   ],
   "source": [
    "row = []\n",
    "for i in df.Subgroup.unique():\n",
    "    row.append(list(data_aug.loc[i].Value))\n",
    "dfA = pd.DataFrame(row).T\n",
    "dfA.columns = df.Subgroup.unique()\n",
    "dfA.head()"
   ]
  },
  {
   "cell_type": "code",
   "execution_count": 16,
   "metadata": {},
   "outputs": [],
   "source": [
    "dates_aug = list((df['Time Period Start Date'].unique()))"
   ]
  },
  {
   "cell_type": "code",
   "execution_count": 17,
   "metadata": {},
   "outputs": [],
   "source": [
    "steps = steps - len(dates_aug[25:])\n",
    "\n",
    "extDates = []\n",
    "u = dates_aug[-1]\n",
    "d = datetime.timedelta(weeks = 2)\n",
    "for i in range(steps):\n",
    "    t = u + d\n",
    "    u = t\n",
    "    extDates.append(t)"
   ]
  },
  {
   "cell_type": "code",
   "execution_count": 18,
   "metadata": {},
   "outputs": [
    {
     "data": {
      "image/png": "[encoded data removed]",
      "text/plain": [
       "<Figure size 720x360 with 1 Axes>"
      ]
     },
     "metadata": {
      "needs_background": "light"
     },
     "output_type": "display_data"
    }
   ],
   "source": [
    "i = 'United States'\n",
    "fig, ax = plt.subplots(figsize=(10,5))\n",
    "ax.scatter(dates, data.loc[i]['Value'], color = 'b', label = 'CDC data (MAR)')\n",
    "ax.scatter(dates_aug[25:], data_aug.loc[i]['Value'][25:], color = 'g', label = 'CDC data (AUG)')\n",
    "ax.scatter(dates_aug[25:], list(pred.T.loc[i].values)[0][:len(dates_aug[25:])], color='r', label = 'VAR prediction')\n",
    "ax.scatter(extDates, list(pred.T.loc[i].values)[0][len(dates_aug[25:]):], color='r')\n",
    "ax.grid()\n",
    "ax.set_title(i + ' (VAR)', fontsize=18)\n",
    "ax.set_ylabel('Percent with reduced or no care', fontsize=14)\n",
    "ax.set_xlabel('Date', fontsize=14)\n",
    "ax.legend()\n",
    "plt.tight_layout()\n",
    "plt.savefig('Images/VARpredictvsActual.png')"
   ]
  },
  {
   "cell_type": "markdown",
   "metadata": {},
   "source": [
    "#### VAR vs actual data results\n",
    "The predictions from our VAR model seem pretty reasonable, even if it still under predicts the actual data. The CDC data lags behind current events pretty signifcantly, at the time of writing this notebook we have seen the results of the Delta varriant and the hospital closures that have come with it. That could mean access to care was reduced during that time and might track with the peak in the VAR predictions. \n",
    "\n",
    "#### Future work\n",
    "Continuing work on this project their are a few things we could do to imporve the model performance\n",
    "\n",
    "- Impute missing data\n",
    "     - Their are a few gaps in the data, currently our VAR model doesn't take that into account which could be skewing the results. Simple imputation of the missing data might improve accuracy\n",
    "     \n",
    "- Removing the trend\n",
    "     - With the original data from Febuary we didn't see much of a trend, however with the data from June we can now see that the data does have a strong downward trend. This could be removed with differencing which could help model performance\n",
    "     \n",
    "- Seasonality\n",
    "     - The VAR predictions, as well as knowledge of the Delta varriant, could indicate a seasonal trend to the data. While we aren't currently seeing this in the CDC data it's something to look out for in future itterations of this project. "
   ]
  },
  {
   "cell_type": "code",
   "execution_count": null,
   "metadata": {},
   "outputs": [],
   "source": []
  }
 ],
 "metadata": {
  "kernelspec": {
   "display_name": "Python 3",
   "language": "python",
   "name": "python3"
  },
  "language_info": {
   "codemirror_mode": {
    "name": "ipython",
    "version": 3
   },
   "file_extension": ".py",
   "mimetype": "text/x-python",
   "name": "python",
   "nbconvert_exporter": "python",
   "pygments_lexer": "ipython3",
   "version": "3.8.5"
  }
 },
 "nbformat": 4,
 "nbformat_minor": 4
}
