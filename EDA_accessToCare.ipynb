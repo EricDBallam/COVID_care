{
 "cells": [
  {
   "cell_type": "code",
   "execution_count": 1,
   "metadata": {},
   "outputs": [],
   "source": [
    "import pandas as pd\n",
    "import datetime\n",
    "import matplotlib.pyplot as plt"
   ]
  },
  {
   "cell_type": "code",
   "execution_count": 2,
   "metadata": {},
   "outputs": [],
   "source": [
    "month = 'MAR'"
   ]
  },
  {
   "cell_type": "code",
   "execution_count": 3,
   "metadata": {},
   "outputs": [],
   "source": [
    "# https://data.cdc.gov/NCHS/Indicators-of-Reduced-Access-to-Care-Due-to-the-Co/xb3p-q62w\n",
    "df = pd.read_csv(f\"DATA/{month} - Indicators_of_Reduced_Access_to_Care_Due_to_the_Coronavirus_Pandemic_During_Last_4_Weeks.csv\")"
   ]
  },
  {
   "cell_type": "code",
   "execution_count": 4,
   "metadata": {},
   "outputs": [
    {
     "data": {
      "text/html": [
       "<div>\n",
       "<style scoped>\n",
       "    .dataframe tbody tr th:only-of-type {\n",
       "        vertical-align: middle;\n",
       "    }\n",
       "\n",
       "    .dataframe tbody tr th {\n",
       "        vertical-align: top;\n",
       "    }\n",
       "\n",
       "    .dataframe thead th {\n",
       "        text-align: right;\n",
       "    }\n",
       "</style>\n",
       "<table border=\"1\" class=\"dataframe\">\n",
       "  <thead>\n",
       "    <tr style=\"text-align: right;\">\n",
       "      <th></th>\n",
       "      <th>Indicator</th>\n",
       "      <th>Group</th>\n",
       "      <th>State</th>\n",
       "      <th>Subgroup</th>\n",
       "      <th>Phase</th>\n",
       "      <th>Time Period</th>\n",
       "      <th>Time Period Label</th>\n",
       "      <th>Time Period Start Date</th>\n",
       "      <th>Time Period End Date</th>\n",
       "      <th>Value</th>\n",
       "      <th>Low CI</th>\n",
       "      <th>High CI</th>\n",
       "      <th>Confidence Interval</th>\n",
       "      <th>Quartile Range</th>\n",
       "    </tr>\n",
       "  </thead>\n",
       "  <tbody>\n",
       "    <tr>\n",
       "      <th>0</th>\n",
       "      <td>Delayed Medical Care, Last 4 Weeks</td>\n",
       "      <td>National Estimate</td>\n",
       "      <td>United States</td>\n",
       "      <td>United States</td>\n",
       "      <td>1</td>\n",
       "      <td>1</td>\n",
       "      <td>Apr 23 - May 5</td>\n",
       "      <td>04/23/2020 12:00:00 AM</td>\n",
       "      <td>05/05/2020 12:00:00 AM</td>\n",
       "      <td>38.7</td>\n",
       "      <td>38.1</td>\n",
       "      <td>39.4</td>\n",
       "      <td>38.1 - 39.4</td>\n",
       "      <td>NaN</td>\n",
       "    </tr>\n",
       "    <tr>\n",
       "      <th>1</th>\n",
       "      <td>Delayed Medical Care, Last 4 Weeks</td>\n",
       "      <td>By Age</td>\n",
       "      <td>United States</td>\n",
       "      <td>18 - 29 years</td>\n",
       "      <td>1</td>\n",
       "      <td>1</td>\n",
       "      <td>Apr 23 - May 5</td>\n",
       "      <td>04/23/2020 12:00:00 AM</td>\n",
       "      <td>05/05/2020 12:00:00 AM</td>\n",
       "      <td>34.8</td>\n",
       "      <td>32.5</td>\n",
       "      <td>37.2</td>\n",
       "      <td>32.5 - 37.2</td>\n",
       "      <td>NaN</td>\n",
       "    </tr>\n",
       "    <tr>\n",
       "      <th>2</th>\n",
       "      <td>Delayed Medical Care, Last 4 Weeks</td>\n",
       "      <td>By Age</td>\n",
       "      <td>United States</td>\n",
       "      <td>30 - 39 years</td>\n",
       "      <td>1</td>\n",
       "      <td>1</td>\n",
       "      <td>Apr 23 - May 5</td>\n",
       "      <td>04/23/2020 12:00:00 AM</td>\n",
       "      <td>05/05/2020 12:00:00 AM</td>\n",
       "      <td>37.3</td>\n",
       "      <td>35.6</td>\n",
       "      <td>39.0</td>\n",
       "      <td>35.6 - 39.0</td>\n",
       "      <td>NaN</td>\n",
       "    </tr>\n",
       "    <tr>\n",
       "      <th>3</th>\n",
       "      <td>Delayed Medical Care, Last 4 Weeks</td>\n",
       "      <td>By Age</td>\n",
       "      <td>United States</td>\n",
       "      <td>40 - 49 years</td>\n",
       "      <td>1</td>\n",
       "      <td>1</td>\n",
       "      <td>Apr 23 - May 5</td>\n",
       "      <td>04/23/2020 12:00:00 AM</td>\n",
       "      <td>05/05/2020 12:00:00 AM</td>\n",
       "      <td>40.3</td>\n",
       "      <td>39.0</td>\n",
       "      <td>41.7</td>\n",
       "      <td>39.0 - 41.7</td>\n",
       "      <td>NaN</td>\n",
       "    </tr>\n",
       "    <tr>\n",
       "      <th>4</th>\n",
       "      <td>Delayed Medical Care, Last 4 Weeks</td>\n",
       "      <td>By Age</td>\n",
       "      <td>United States</td>\n",
       "      <td>50 - 59 years</td>\n",
       "      <td>1</td>\n",
       "      <td>1</td>\n",
       "      <td>Apr 23 - May 5</td>\n",
       "      <td>04/23/2020 12:00:00 AM</td>\n",
       "      <td>05/05/2020 12:00:00 AM</td>\n",
       "      <td>40.7</td>\n",
       "      <td>39.3</td>\n",
       "      <td>42.2</td>\n",
       "      <td>39.3 - 42.2</td>\n",
       "      <td>NaN</td>\n",
       "    </tr>\n",
       "  </tbody>\n",
       "</table>\n",
       "</div>"
      ],
      "text/plain": [
       "                            Indicator              Group          State  \\\n",
       "0  Delayed Medical Care, Last 4 Weeks  National Estimate  United States   \n",
       "1  Delayed Medical Care, Last 4 Weeks             By Age  United States   \n",
       "2  Delayed Medical Care, Last 4 Weeks             By Age  United States   \n",
       "3  Delayed Medical Care, Last 4 Weeks             By Age  United States   \n",
       "4  Delayed Medical Care, Last 4 Weeks             By Age  United States   \n",
       "\n",
       "        Subgroup Phase  Time Period Time Period Label  Time Period Start Date  \\\n",
       "0  United States     1            1    Apr 23 - May 5  04/23/2020 12:00:00 AM   \n",
       "1  18 - 29 years     1            1    Apr 23 - May 5  04/23/2020 12:00:00 AM   \n",
       "2  30 - 39 years     1            1    Apr 23 - May 5  04/23/2020 12:00:00 AM   \n",
       "3  40 - 49 years     1            1    Apr 23 - May 5  04/23/2020 12:00:00 AM   \n",
       "4  50 - 59 years     1            1    Apr 23 - May 5  04/23/2020 12:00:00 AM   \n",
       "\n",
       "     Time Period End Date  Value  Low CI  High CI Confidence Interval  \\\n",
       "0  05/05/2020 12:00:00 AM   38.7    38.1     39.4         38.1 - 39.4   \n",
       "1  05/05/2020 12:00:00 AM   34.8    32.5     37.2         32.5 - 37.2   \n",
       "2  05/05/2020 12:00:00 AM   37.3    35.6     39.0         35.6 - 39.0   \n",
       "3  05/05/2020 12:00:00 AM   40.3    39.0     41.7         39.0 - 41.7   \n",
       "4  05/05/2020 12:00:00 AM   40.7    39.3     42.2         39.3 - 42.2   \n",
       "\n",
       "  Quartile Range  \n",
       "0            NaN  \n",
       "1            NaN  \n",
       "2            NaN  \n",
       "3            NaN  \n",
       "4            NaN  "
      ]
     },
     "execution_count": 4,
     "metadata": {},
     "output_type": "execute_result"
    }
   ],
   "source": [
    "df.head()"
   ]
  },
  {
   "cell_type": "code",
   "execution_count": 5,
   "metadata": {},
   "outputs": [
    {
     "data": {
      "text/plain": [
       "array([ 1,  2,  3,  4,  5,  6,  7,  8,  9, 10, 11, 12, 13, 14, 15, 16, 17,\n",
       "       18, 19, 20, 21, 22, 23, 24], dtype=int64)"
      ]
     },
     "execution_count": 5,
     "metadata": {},
     "output_type": "execute_result"
    }
   ],
   "source": [
    "df['Time Period'].unique()"
   ]
  },
  {
   "cell_type": "code",
   "execution_count": 6,
   "metadata": {},
   "outputs": [
    {
     "data": {
      "text/plain": [
       "array(['Delayed Medical Care, Last 4 Weeks',\n",
       "       'Did Not Get Needed Care, Last 4 Weeks',\n",
       "       'Delayed or Did Not Get Care, Last 4 Weeks'], dtype=object)"
      ]
     },
     "execution_count": 6,
     "metadata": {},
     "output_type": "execute_result"
    }
   ],
   "source": [
    "df.Indicator.unique()"
   ]
  },
  {
   "cell_type": "code",
   "execution_count": 7,
   "metadata": {},
   "outputs": [
    {
     "data": {
      "text/plain": [
       "array(['National Estimate', 'By Age', 'By Gender',\n",
       "       'By Race/Hispanic ethnicity', 'By Education', 'By State'],\n",
       "      dtype=object)"
      ]
     },
     "execution_count": 7,
     "metadata": {},
     "output_type": "execute_result"
    }
   ],
   "source": [
    "df.Group.unique()"
   ]
  },
  {
   "cell_type": "code",
   "execution_count": 8,
   "metadata": {},
   "outputs": [
    {
     "data": {
      "text/plain": [
       "array(['United States', '18 - 29 years', '30 - 39 years', '40 - 49 years',\n",
       "       '50 - 59 years', '60 - 69 years', '70 - 79 years',\n",
       "       '80 years and above', 'Male', 'Female', 'Hispanic or Latino',\n",
       "       'Non-Hispanic white, single race',\n",
       "       'Non-Hispanic black, single race',\n",
       "       'Non-Hispanic Asian, single race',\n",
       "       'Non-Hispanic, other races and multiple races',\n",
       "       'Less than a high school diploma', 'High school diploma or GED',\n",
       "       \"Some college/Associate's degree\", \"Bachelor's degree or higher\",\n",
       "       'Alabama', 'Alaska', 'Arizona', 'Arkansas', 'California',\n",
       "       'Colorado', 'Connecticut', 'Delaware', 'District of Columbia',\n",
       "       'Florida', 'Georgia', 'Hawaii', 'Idaho', 'Illinois', 'Indiana',\n",
       "       'Iowa', 'Kansas', 'Kentucky', 'Louisiana', 'Maine', 'Maryland',\n",
       "       'Massachusetts', 'Michigan', 'Minnesota', 'Mississippi',\n",
       "       'Missouri', 'Montana', 'Nebraska', 'Nevada', 'New Hampshire',\n",
       "       'New Jersey', 'New Mexico', 'New York', 'North Carolina',\n",
       "       'North Dakota', 'Ohio', 'Oklahoma', 'Oregon', 'Pennsylvania',\n",
       "       'Rhode Island', 'South Carolina', 'South Dakota', 'Tennessee',\n",
       "       'Texas', 'Utah', 'Vermont', 'Virginia', 'Washington',\n",
       "       'West Virginia', 'Wisconsin', 'Wyoming'], dtype=object)"
      ]
     },
     "execution_count": 8,
     "metadata": {},
     "output_type": "execute_result"
    }
   ],
   "source": [
    "df.Subgroup.unique()"
   ]
  },
  {
   "cell_type": "code",
   "execution_count": null,
   "metadata": {},
   "outputs": [],
   "source": []
  },
  {
   "cell_type": "code",
   "execution_count": 9,
   "metadata": {},
   "outputs": [],
   "source": [
    "# df = df[['Indicator', 'Subgroup', 'Time Period', 'Time Period Start Date', 'Time Period End Date', 'Value', 'Low CI', 'High CI']]\n",
    "df = df[df['Indicator'] == 'Delayed or Did Not Get Care, Last 4 Weeks']\n",
    "# df.head()"
   ]
  },
  {
   "cell_type": "code",
   "execution_count": 10,
   "metadata": {},
   "outputs": [
    {
     "name": "stdout",
     "output_type": "stream",
     "text": [
      "<class 'pandas.core.frame.DataFrame'>\n",
      "Int64Index: 1718 entries, 140 to 5153\n",
      "Data columns (total 14 columns):\n",
      " #   Column                  Non-Null Count  Dtype  \n",
      "---  ------                  --------------  -----  \n",
      " 0   Indicator               1718 non-null   object \n",
      " 1   Group                   1718 non-null   object \n",
      " 2   State                   1718 non-null   object \n",
      " 3   Subgroup                1718 non-null   object \n",
      " 4   Phase                   1718 non-null   object \n",
      " 5   Time Period             1718 non-null   int64  \n",
      " 6   Time Period Label       1718 non-null   object \n",
      " 7   Time Period Start Date  1718 non-null   object \n",
      " 8   Time Period End Date    1718 non-null   object \n",
      " 9   Value                   1680 non-null   float64\n",
      " 10  Low CI                  1680 non-null   float64\n",
      " 11  High CI                 1680 non-null   float64\n",
      " 12  Confidence Interval     1680 non-null   object \n",
      " 13  Quartile Range          1224 non-null   object \n",
      "dtypes: float64(3), int64(1), object(10)\n",
      "memory usage: 201.3+ KB\n"
     ]
    }
   ],
   "source": [
    "df.info()"
   ]
  },
  {
   "cell_type": "code",
   "execution_count": 11,
   "metadata": {},
   "outputs": [
    {
     "data": {
      "text/plain": [
       "'04/23/2020 12:00:00 AM'"
      ]
     },
     "execution_count": 11,
     "metadata": {},
     "output_type": "execute_result"
    }
   ],
   "source": [
    "df['Time Period Start Date'].iloc[0]"
   ]
  },
  {
   "cell_type": "code",
   "execution_count": 12,
   "metadata": {},
   "outputs": [
    {
     "data": {
      "text/plain": [
       "'05/05/2020 12:00:00 AM'"
      ]
     },
     "execution_count": 12,
     "metadata": {},
     "output_type": "execute_result"
    }
   ],
   "source": [
    "df['Time Period End Date'].iloc[0]"
   ]
  },
  {
   "cell_type": "code",
   "execution_count": 13,
   "metadata": {},
   "outputs": [
    {
     "name": "stdout",
     "output_type": "stream",
     "text": [
      "<class 'pandas.core.frame.DataFrame'>\n",
      "Int64Index: 1718 entries, 140 to 5153\n",
      "Data columns (total 14 columns):\n",
      " #   Column                  Non-Null Count  Dtype  \n",
      "---  ------                  --------------  -----  \n",
      " 0   Indicator               1718 non-null   object \n",
      " 1   Group                   1718 non-null   object \n",
      " 2   State                   1718 non-null   object \n",
      " 3   Subgroup                1718 non-null   object \n",
      " 4   Phase                   1718 non-null   object \n",
      " 5   Time Period             1718 non-null   int64  \n",
      " 6   Time Period Label       1718 non-null   object \n",
      " 7   Time Period Start Date  1718 non-null   object \n",
      " 8   Time Period End Date    1718 non-null   object \n",
      " 9   Value                   1680 non-null   float64\n",
      " 10  Low CI                  1680 non-null   float64\n",
      " 11  High CI                 1680 non-null   float64\n",
      " 12  Confidence Interval     1680 non-null   object \n",
      " 13  Quartile Range          1224 non-null   object \n",
      "dtypes: float64(3), int64(1), object(10)\n",
      "memory usage: 201.3+ KB\n"
     ]
    }
   ],
   "source": [
    "df.loc[:,'Time Period Start Date'] = df['Time Period Start Date'].apply(lambda x: datetime.datetime.strptime(x[0:10], '%m/%d/%Y').date()) \n",
    "df.loc[:,'Time Period End Date'] = df['Time Period End Date'].apply(lambda x: datetime.datetime.strptime(x[0:10], '%m/%d/%Y').date()) \n",
    "\n",
    "df.info()"
   ]
  },
  {
   "cell_type": "code",
   "execution_count": 14,
   "metadata": {},
   "outputs": [
    {
     "data": {
      "text/html": [
       "<div>\n",
       "<style scoped>\n",
       "    .dataframe tbody tr th:only-of-type {\n",
       "        vertical-align: middle;\n",
       "    }\n",
       "\n",
       "    .dataframe tbody tr th {\n",
       "        vertical-align: top;\n",
       "    }\n",
       "\n",
       "    .dataframe thead th {\n",
       "        text-align: right;\n",
       "    }\n",
       "</style>\n",
       "<table border=\"1\" class=\"dataframe\">\n",
       "  <thead>\n",
       "    <tr style=\"text-align: right;\">\n",
       "      <th></th>\n",
       "      <th>Indicator</th>\n",
       "      <th>Group</th>\n",
       "      <th>State</th>\n",
       "      <th>Subgroup</th>\n",
       "      <th>Phase</th>\n",
       "      <th>Time Period</th>\n",
       "      <th>Time Period Label</th>\n",
       "      <th>Time Period Start Date</th>\n",
       "      <th>Time Period End Date</th>\n",
       "      <th>Value</th>\n",
       "      <th>Low CI</th>\n",
       "      <th>High CI</th>\n",
       "      <th>Confidence Interval</th>\n",
       "      <th>Quartile Range</th>\n",
       "    </tr>\n",
       "  </thead>\n",
       "  <tbody>\n",
       "    <tr>\n",
       "      <th>2698</th>\n",
       "      <td>Delayed or Did Not Get Care, Last 4 Weeks</td>\n",
       "      <td>National Estimate</td>\n",
       "      <td>United States</td>\n",
       "      <td>United States</td>\n",
       "      <td>-1</td>\n",
       "      <td>1</td>\n",
       "      <td>July 22 - Aug 18</td>\n",
       "      <td>2020-07-22</td>\n",
       "      <td>2020-08-18</td>\n",
       "      <td>NaN</td>\n",
       "      <td>NaN</td>\n",
       "      <td>NaN</td>\n",
       "      <td>NaN</td>\n",
       "      <td>NaN</td>\n",
       "    </tr>\n",
       "    <tr>\n",
       "      <th>2699</th>\n",
       "      <td>Delayed or Did Not Get Care, Last 4 Weeks</td>\n",
       "      <td>By Age</td>\n",
       "      <td>United States</td>\n",
       "      <td>18 - 29 years</td>\n",
       "      <td>-1</td>\n",
       "      <td>1</td>\n",
       "      <td>July 22 - Aug 18</td>\n",
       "      <td>2020-07-22</td>\n",
       "      <td>2020-08-18</td>\n",
       "      <td>NaN</td>\n",
       "      <td>NaN</td>\n",
       "      <td>NaN</td>\n",
       "      <td>NaN</td>\n",
       "      <td>NaN</td>\n",
       "    </tr>\n",
       "    <tr>\n",
       "      <th>2700</th>\n",
       "      <td>Delayed or Did Not Get Care, Last 4 Weeks</td>\n",
       "      <td>By Age</td>\n",
       "      <td>United States</td>\n",
       "      <td>30 - 39 years</td>\n",
       "      <td>-1</td>\n",
       "      <td>1</td>\n",
       "      <td>July 22 - Aug 18</td>\n",
       "      <td>2020-07-22</td>\n",
       "      <td>2020-08-18</td>\n",
       "      <td>NaN</td>\n",
       "      <td>NaN</td>\n",
       "      <td>NaN</td>\n",
       "      <td>NaN</td>\n",
       "      <td>NaN</td>\n",
       "    </tr>\n",
       "    <tr>\n",
       "      <th>2701</th>\n",
       "      <td>Delayed or Did Not Get Care, Last 4 Weeks</td>\n",
       "      <td>By Age</td>\n",
       "      <td>United States</td>\n",
       "      <td>40 - 49 years</td>\n",
       "      <td>-1</td>\n",
       "      <td>1</td>\n",
       "      <td>July 22 - Aug 18</td>\n",
       "      <td>2020-07-22</td>\n",
       "      <td>2020-08-18</td>\n",
       "      <td>NaN</td>\n",
       "      <td>NaN</td>\n",
       "      <td>NaN</td>\n",
       "      <td>NaN</td>\n",
       "      <td>NaN</td>\n",
       "    </tr>\n",
       "    <tr>\n",
       "      <th>2702</th>\n",
       "      <td>Delayed or Did Not Get Care, Last 4 Weeks</td>\n",
       "      <td>By Age</td>\n",
       "      <td>United States</td>\n",
       "      <td>50 - 59 years</td>\n",
       "      <td>-1</td>\n",
       "      <td>1</td>\n",
       "      <td>July 22 - Aug 18</td>\n",
       "      <td>2020-07-22</td>\n",
       "      <td>2020-08-18</td>\n",
       "      <td>NaN</td>\n",
       "      <td>NaN</td>\n",
       "      <td>NaN</td>\n",
       "      <td>NaN</td>\n",
       "      <td>NaN</td>\n",
       "    </tr>\n",
       "  </tbody>\n",
       "</table>\n",
       "</div>"
      ],
      "text/plain": [
       "                                      Indicator              Group  \\\n",
       "2698  Delayed or Did Not Get Care, Last 4 Weeks  National Estimate   \n",
       "2699  Delayed or Did Not Get Care, Last 4 Weeks             By Age   \n",
       "2700  Delayed or Did Not Get Care, Last 4 Weeks             By Age   \n",
       "2701  Delayed or Did Not Get Care, Last 4 Weeks             By Age   \n",
       "2702  Delayed or Did Not Get Care, Last 4 Weeks             By Age   \n",
       "\n",
       "              State       Subgroup Phase  Time Period Time Period Label  \\\n",
       "2698  United States  United States    -1            1  July 22 - Aug 18   \n",
       "2699  United States  18 - 29 years    -1            1  July 22 - Aug 18   \n",
       "2700  United States  30 - 39 years    -1            1  July 22 - Aug 18   \n",
       "2701  United States  40 - 49 years    -1            1  July 22 - Aug 18   \n",
       "2702  United States  50 - 59 years    -1            1  July 22 - Aug 18   \n",
       "\n",
       "     Time Period Start Date Time Period End Date  Value  Low CI  High CI  \\\n",
       "2698             2020-07-22           2020-08-18    NaN     NaN      NaN   \n",
       "2699             2020-07-22           2020-08-18    NaN     NaN      NaN   \n",
       "2700             2020-07-22           2020-08-18    NaN     NaN      NaN   \n",
       "2701             2020-07-22           2020-08-18    NaN     NaN      NaN   \n",
       "2702             2020-07-22           2020-08-18    NaN     NaN      NaN   \n",
       "\n",
       "     Confidence Interval Quartile Range  \n",
       "2698                 NaN            NaN  \n",
       "2699                 NaN            NaN  \n",
       "2700                 NaN            NaN  \n",
       "2701                 NaN            NaN  \n",
       "2702                 NaN            NaN  "
      ]
     },
     "execution_count": 14,
     "metadata": {},
     "output_type": "execute_result"
    }
   ],
   "source": [
    "df[df.Value.isnull()].head()"
   ]
  },
  {
   "cell_type": "code",
   "execution_count": 15,
   "metadata": {},
   "outputs": [
    {
     "name": "stdout",
     "output_type": "stream",
     "text": [
      "<class 'pandas.core.frame.DataFrame'>\n",
      "Int64Index: 1680 entries, 140 to 5153\n",
      "Data columns (total 14 columns):\n",
      " #   Column                  Non-Null Count  Dtype  \n",
      "---  ------                  --------------  -----  \n",
      " 0   Indicator               1680 non-null   object \n",
      " 1   Group                   1680 non-null   object \n",
      " 2   State                   1680 non-null   object \n",
      " 3   Subgroup                1680 non-null   object \n",
      " 4   Phase                   1680 non-null   object \n",
      " 5   Time Period             1680 non-null   int64  \n",
      " 6   Time Period Label       1680 non-null   object \n",
      " 7   Time Period Start Date  1680 non-null   object \n",
      " 8   Time Period End Date    1680 non-null   object \n",
      " 9   Value                   1680 non-null   float64\n",
      " 10  Low CI                  1680 non-null   float64\n",
      " 11  High CI                 1680 non-null   float64\n",
      " 12  Confidence Interval     1680 non-null   object \n",
      " 13  Quartile Range          1224 non-null   object \n",
      "dtypes: float64(3), int64(1), object(10)\n",
      "memory usage: 196.9+ KB\n"
     ]
    }
   ],
   "source": [
    "df = df[df.Value.notnull()]\n",
    "df.info()"
   ]
  },
  {
   "cell_type": "code",
   "execution_count": 16,
   "metadata": {},
   "outputs": [
    {
     "name": "stdout",
     "output_type": "stream",
     "text": [
      "<class 'pandas.core.frame.DataFrame'>\n",
      "Int64Index: 0 entries\n",
      "Data columns (total 14 columns):\n",
      " #   Column                  Non-Null Count  Dtype  \n",
      "---  ------                  --------------  -----  \n",
      " 0   Indicator               0 non-null      object \n",
      " 1   Group                   0 non-null      object \n",
      " 2   State                   0 non-null      object \n",
      " 3   Subgroup                0 non-null      object \n",
      " 4   Phase                   0 non-null      object \n",
      " 5   Time Period             0 non-null      int64  \n",
      " 6   Time Period Label       0 non-null      object \n",
      " 7   Time Period Start Date  0 non-null      object \n",
      " 8   Time Period End Date    0 non-null      object \n",
      " 9   Value                   0 non-null      float64\n",
      " 10  Low CI                  0 non-null      float64\n",
      " 11  High CI                 0 non-null      float64\n",
      " 12  Confidence Interval     0 non-null      object \n",
      " 13  Quartile Range          0 non-null      object \n",
      "dtypes: float64(3), int64(1), object(10)\n",
      "memory usage: 0.0+ bytes\n"
     ]
    }
   ],
   "source": [
    "df[df.Phase == '-1'].info()"
   ]
  },
  {
   "cell_type": "code",
   "execution_count": 17,
   "metadata": {},
   "outputs": [
    {
     "data": {
      "text/plain": [
       "1                      228\n",
       "2                       95\n",
       "3 (Oct 28 � Dec 21)     76\n",
       "3 (Jan 6 � Feb 15)      57\n",
       "Name: Phase, dtype: int64"
      ]
     },
     "execution_count": 17,
     "metadata": {},
     "output_type": "execute_result"
    }
   ],
   "source": [
    "df[df['Quartile Range'].isnull()]['Phase'].value_counts()"
   ]
  },
  {
   "cell_type": "code",
   "execution_count": 18,
   "metadata": {},
   "outputs": [
    {
     "data": {
      "text/plain": [
       "array([], dtype=object)"
      ]
     },
     "execution_count": 18,
     "metadata": {},
     "output_type": "execute_result"
    }
   ],
   "source": [
    "df[df.Phase == '-1']['Time Period Start Date'].unique()"
   ]
  },
  {
   "cell_type": "code",
   "execution_count": 19,
   "metadata": {},
   "outputs": [
    {
     "data": {
      "text/plain": [
       "array([datetime.date(2020, 4, 23), datetime.date(2020, 5, 7),\n",
       "       datetime.date(2020, 5, 14), datetime.date(2020, 5, 21),\n",
       "       datetime.date(2020, 5, 28), datetime.date(2020, 6, 4),\n",
       "       datetime.date(2020, 6, 11), datetime.date(2020, 6, 18),\n",
       "       datetime.date(2020, 6, 25), datetime.date(2020, 7, 2),\n",
       "       datetime.date(2020, 7, 9), datetime.date(2020, 7, 16)],\n",
       "      dtype=object)"
      ]
     },
     "execution_count": 19,
     "metadata": {},
     "output_type": "execute_result"
    }
   ],
   "source": [
    "df[df.Phase == '1']['Time Period Start Date'].unique()"
   ]
  },
  {
   "cell_type": "code",
   "execution_count": 20,
   "metadata": {},
   "outputs": [
    {
     "data": {
      "text/plain": [
       "array([datetime.date(2020, 8, 19), datetime.date(2020, 9, 2),\n",
       "       datetime.date(2020, 9, 16), datetime.date(2020, 9, 30),\n",
       "       datetime.date(2020, 10, 14)], dtype=object)"
      ]
     },
     "execution_count": 20,
     "metadata": {},
     "output_type": "execute_result"
    }
   ],
   "source": [
    "df[df.Phase == '2']['Time Period Start Date'].unique()"
   ]
  },
  {
   "cell_type": "code",
   "execution_count": 21,
   "metadata": {},
   "outputs": [
    {
     "data": {
      "text/plain": [
       "array([datetime.date(2020, 10, 28), datetime.date(2020, 11, 11),\n",
       "       datetime.date(2020, 11, 25), datetime.date(2020, 12, 9)],\n",
       "      dtype=object)"
      ]
     },
     "execution_count": 21,
     "metadata": {},
     "output_type": "execute_result"
    }
   ],
   "source": [
    "df[df.Phase == '3 (Oct 28 � Dec 21)']['Time Period Start Date'].unique()"
   ]
  },
  {
   "cell_type": "code",
   "execution_count": 22,
   "metadata": {},
   "outputs": [
    {
     "data": {
      "text/plain": [
       "array([], dtype=object)"
      ]
     },
     "execution_count": 22,
     "metadata": {},
     "output_type": "execute_result"
    }
   ],
   "source": [
    "df[df.Phase == '3 (Jan 6 � Mar 29)']['Time Period Start Date'].unique()"
   ]
  },
  {
   "cell_type": "code",
   "execution_count": 23,
   "metadata": {},
   "outputs": [
    {
     "data": {
      "text/plain": [
       "array([], dtype=object)"
      ]
     },
     "execution_count": 23,
     "metadata": {},
     "output_type": "execute_result"
    }
   ],
   "source": [
    "df[df.Phase == '3.1']['Time Period Start Date'].unique()"
   ]
  },
  {
   "cell_type": "code",
   "execution_count": 24,
   "metadata": {},
   "outputs": [],
   "source": [
    "df = df[df.Phase != '-1']"
   ]
  },
  {
   "cell_type": "code",
   "execution_count": 25,
   "metadata": {},
   "outputs": [
    {
     "data": {
      "text/plain": [
       "array(['1', '2', '3 (Oct 28 � Dec 21)', '3 (Jan 6 � Feb 15)'],\n",
       "      dtype=object)"
      ]
     },
     "execution_count": 25,
     "metadata": {},
     "output_type": "execute_result"
    }
   ],
   "source": [
    "df.Phase.unique()"
   ]
  },
  {
   "cell_type": "code",
   "execution_count": 26,
   "metadata": {
    "scrolled": false
   },
   "outputs": [
    {
     "data": {
      "text/html": [
       "<div>\n",
       "<style scoped>\n",
       "    .dataframe tbody tr th:only-of-type {\n",
       "        vertical-align: middle;\n",
       "    }\n",
       "\n",
       "    .dataframe tbody tr th {\n",
       "        vertical-align: top;\n",
       "    }\n",
       "\n",
       "    .dataframe thead th {\n",
       "        text-align: right;\n",
       "    }\n",
       "</style>\n",
       "<table border=\"1\" class=\"dataframe\">\n",
       "  <thead>\n",
       "    <tr style=\"text-align: right;\">\n",
       "      <th></th>\n",
       "      <th></th>\n",
       "      <th></th>\n",
       "      <th>Value</th>\n",
       "      <th>Low CI</th>\n",
       "      <th>High CI</th>\n",
       "    </tr>\n",
       "    <tr>\n",
       "      <th>Group</th>\n",
       "      <th>Subgroup</th>\n",
       "      <th>Time Period</th>\n",
       "      <th></th>\n",
       "      <th></th>\n",
       "      <th></th>\n",
       "    </tr>\n",
       "  </thead>\n",
       "  <tbody>\n",
       "    <tr>\n",
       "      <th rowspan=\"5\" valign=\"top\">By Age</th>\n",
       "      <th rowspan=\"5\" valign=\"top\">18 - 29 years</th>\n",
       "      <th>1</th>\n",
       "      <td>40.8</td>\n",
       "      <td>38.3</td>\n",
       "      <td>43.4</td>\n",
       "    </tr>\n",
       "    <tr>\n",
       "      <th>2</th>\n",
       "      <td>43.4</td>\n",
       "      <td>39.3</td>\n",
       "      <td>47.6</td>\n",
       "    </tr>\n",
       "    <tr>\n",
       "      <th>3</th>\n",
       "      <td>41.0</td>\n",
       "      <td>38.9</td>\n",
       "      <td>43.2</td>\n",
       "    </tr>\n",
       "    <tr>\n",
       "      <th>4</th>\n",
       "      <td>38.5</td>\n",
       "      <td>36.4</td>\n",
       "      <td>40.7</td>\n",
       "    </tr>\n",
       "    <tr>\n",
       "      <th>5</th>\n",
       "      <td>39.6</td>\n",
       "      <td>37.2</td>\n",
       "      <td>42.1</td>\n",
       "    </tr>\n",
       "    <tr>\n",
       "      <th>...</th>\n",
       "      <th>...</th>\n",
       "      <th>...</th>\n",
       "      <td>...</td>\n",
       "      <td>...</td>\n",
       "      <td>...</td>\n",
       "    </tr>\n",
       "    <tr>\n",
       "      <th rowspan=\"5\" valign=\"top\">National Estimate</th>\n",
       "      <th rowspan=\"5\" valign=\"top\">United States</th>\n",
       "      <th>20</th>\n",
       "      <td>37.1</td>\n",
       "      <td>36.4</td>\n",
       "      <td>37.9</td>\n",
       "    </tr>\n",
       "    <tr>\n",
       "      <th>21</th>\n",
       "      <td>39.5</td>\n",
       "      <td>38.7</td>\n",
       "      <td>40.2</td>\n",
       "    </tr>\n",
       "    <tr>\n",
       "      <th>22</th>\n",
       "      <td>35.3</td>\n",
       "      <td>34.6</td>\n",
       "      <td>36.0</td>\n",
       "    </tr>\n",
       "    <tr>\n",
       "      <th>23</th>\n",
       "      <td>35.6</td>\n",
       "      <td>34.8</td>\n",
       "      <td>36.4</td>\n",
       "    </tr>\n",
       "    <tr>\n",
       "      <th>24</th>\n",
       "      <td>34.2</td>\n",
       "      <td>33.5</td>\n",
       "      <td>34.8</td>\n",
       "    </tr>\n",
       "  </tbody>\n",
       "</table>\n",
       "<p>1680 rows × 3 columns</p>\n",
       "</div>"
      ],
      "text/plain": [
       "                                             Value  Low CI  High CI\n",
       "Group             Subgroup      Time Period                        \n",
       "By Age            18 - 29 years 1             40.8    38.3     43.4\n",
       "                                2             43.4    39.3     47.6\n",
       "                                3             41.0    38.9     43.2\n",
       "                                4             38.5    36.4     40.7\n",
       "                                5             39.6    37.2     42.1\n",
       "...                                            ...     ...      ...\n",
       "National Estimate United States 20            37.1    36.4     37.9\n",
       "                                21            39.5    38.7     40.2\n",
       "                                22            35.3    34.6     36.0\n",
       "                                23            35.6    34.8     36.4\n",
       "                                24            34.2    33.5     34.8\n",
       "\n",
       "[1680 rows x 3 columns]"
      ]
     },
     "execution_count": 26,
     "metadata": {},
     "output_type": "execute_result"
    }
   ],
   "source": [
    "df_grouped = df.groupby(['Group','Subgroup', 'Time Period']).mean()\n",
    "df_grouped"
   ]
  },
  {
   "cell_type": "code",
   "execution_count": 27,
   "metadata": {},
   "outputs": [],
   "source": [
    "# df_grouped.to_csv('COVID_accessToCare.csv')"
   ]
  },
  {
   "cell_type": "code",
   "execution_count": 28,
   "metadata": {},
   "outputs": [],
   "source": [
    "df.to_csv(f'DATA/DATAFRAME_{month}_accessToCare.csv',index=False)"
   ]
  },
  {
   "cell_type": "code",
   "execution_count": null,
   "metadata": {},
   "outputs": [],
   "source": []
  }
 ],
 "metadata": {
  "kernelspec": {
   "display_name": "Python 3",
   "language": "python",
   "name": "python3"
  },
  "language_info": {
   "codemirror_mode": {
    "name": "ipython",
    "version": 3
   },
   "file_extension": ".py",
   "mimetype": "text/x-python",
   "name": "python",
   "nbconvert_exporter": "python",
   "pygments_lexer": "ipython3",
   "version": "3.8.5"
  }
 },
 "nbformat": 4,
 "nbformat_minor": 4
}
