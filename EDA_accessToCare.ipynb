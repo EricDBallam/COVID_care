{
 "cells": [
  {
   "cell_type": "markdown",
   "metadata": {},
   "source": [
    "Author: Eric Ballam\n",
    "\n",
    "Date: 11/24/2021\n",
    "\n",
    "Resources: https://data.cdc.gov/NCHS/Indicators-of-Reduced-Access-to-Care-Due-to-the-Co/xb3p-q62w"
   ]
  },
  {
   "cell_type": "markdown",
   "metadata": {},
   "source": [
    "### Overview\n",
    "The data from the US Census Bureau contains information on the impact covid had on differnet groups access to medical care. The purpose of this work is to identify which groups were most significatly impacted by covid and to model when access to care will return to normal. \n",
    "\n",
    "The data for this project was orginally collected in March 2021 with data collected again in June to check model accuracy. The first step in this process is to understand the features of the data and decided how best to use it.  "
   ]
  },
  {
   "cell_type": "code",
   "execution_count": 1,
   "metadata": {},
   "outputs": [],
   "source": [
    "from IPython.core.display import display, HTML\n",
    "display(HTML(\"<style>.container { width:100% !important; }</style>\"))\n",
    "\n",
    "import pandas as pd\n",
    "import datetime"
   ]
  },
  {
   "cell_type": "code",
   "execution_count": 2,
   "metadata": {},
   "outputs": [
    {
     "data": {
      "text/html": [
       "<div>\n",
       "<style scoped>\n",
       "    .dataframe tbody tr th:only-of-type {\n",
       "        vertical-align: middle;\n",
       "    }\n",
       "\n",
       "    .dataframe tbody tr th {\n",
       "        vertical-align: top;\n",
       "    }\n",
       "\n",
       "    .dataframe thead th {\n",
       "        text-align: right;\n",
       "    }\n",
       "</style>\n",
       "<table border=\"1\" class=\"dataframe\">\n",
       "  <thead>\n",
       "    <tr style=\"text-align: right;\">\n",
       "      <th></th>\n",
       "      <th>Indicator</th>\n",
       "      <th>Group</th>\n",
       "      <th>State</th>\n",
       "      <th>Subgroup</th>\n",
       "      <th>Phase</th>\n",
       "      <th>Time Period</th>\n",
       "      <th>Time Period Label</th>\n",
       "      <th>Time Period Start Date</th>\n",
       "      <th>Time Period End Date</th>\n",
       "      <th>Value</th>\n",
       "      <th>Low CI</th>\n",
       "      <th>High CI</th>\n",
       "      <th>Confidence Interval</th>\n",
       "      <th>Quartile Range</th>\n",
       "    </tr>\n",
       "  </thead>\n",
       "  <tbody>\n",
       "    <tr>\n",
       "      <th>0</th>\n",
       "      <td>Delayed Medical Care, Last 4 Weeks</td>\n",
       "      <td>National Estimate</td>\n",
       "      <td>United States</td>\n",
       "      <td>United States</td>\n",
       "      <td>1</td>\n",
       "      <td>1</td>\n",
       "      <td>Apr 23 - May 5</td>\n",
       "      <td>04/23/2020 12:00:00 AM</td>\n",
       "      <td>05/05/2020 12:00:00 AM</td>\n",
       "      <td>38.7</td>\n",
       "      <td>38.1</td>\n",
       "      <td>39.4</td>\n",
       "      <td>38.1 - 39.4</td>\n",
       "      <td>NaN</td>\n",
       "    </tr>\n",
       "    <tr>\n",
       "      <th>1</th>\n",
       "      <td>Delayed Medical Care, Last 4 Weeks</td>\n",
       "      <td>By Age</td>\n",
       "      <td>United States</td>\n",
       "      <td>18 - 29 years</td>\n",
       "      <td>1</td>\n",
       "      <td>1</td>\n",
       "      <td>Apr 23 - May 5</td>\n",
       "      <td>04/23/2020 12:00:00 AM</td>\n",
       "      <td>05/05/2020 12:00:00 AM</td>\n",
       "      <td>34.8</td>\n",
       "      <td>32.5</td>\n",
       "      <td>37.2</td>\n",
       "      <td>32.5 - 37.2</td>\n",
       "      <td>NaN</td>\n",
       "    </tr>\n",
       "    <tr>\n",
       "      <th>2</th>\n",
       "      <td>Delayed Medical Care, Last 4 Weeks</td>\n",
       "      <td>By Age</td>\n",
       "      <td>United States</td>\n",
       "      <td>30 - 39 years</td>\n",
       "      <td>1</td>\n",
       "      <td>1</td>\n",
       "      <td>Apr 23 - May 5</td>\n",
       "      <td>04/23/2020 12:00:00 AM</td>\n",
       "      <td>05/05/2020 12:00:00 AM</td>\n",
       "      <td>37.3</td>\n",
       "      <td>35.6</td>\n",
       "      <td>39.0</td>\n",
       "      <td>35.6 - 39.0</td>\n",
       "      <td>NaN</td>\n",
       "    </tr>\n",
       "    <tr>\n",
       "      <th>3</th>\n",
       "      <td>Delayed Medical Care, Last 4 Weeks</td>\n",
       "      <td>By Age</td>\n",
       "      <td>United States</td>\n",
       "      <td>40 - 49 years</td>\n",
       "      <td>1</td>\n",
       "      <td>1</td>\n",
       "      <td>Apr 23 - May 5</td>\n",
       "      <td>04/23/2020 12:00:00 AM</td>\n",
       "      <td>05/05/2020 12:00:00 AM</td>\n",
       "      <td>40.3</td>\n",
       "      <td>39.0</td>\n",
       "      <td>41.7</td>\n",
       "      <td>39.0 - 41.7</td>\n",
       "      <td>NaN</td>\n",
       "    </tr>\n",
       "    <tr>\n",
       "      <th>4</th>\n",
       "      <td>Delayed Medical Care, Last 4 Weeks</td>\n",
       "      <td>By Age</td>\n",
       "      <td>United States</td>\n",
       "      <td>50 - 59 years</td>\n",
       "      <td>1</td>\n",
       "      <td>1</td>\n",
       "      <td>Apr 23 - May 5</td>\n",
       "      <td>04/23/2020 12:00:00 AM</td>\n",
       "      <td>05/05/2020 12:00:00 AM</td>\n",
       "      <td>40.7</td>\n",
       "      <td>39.3</td>\n",
       "      <td>42.2</td>\n",
       "      <td>39.3 - 42.2</td>\n",
       "      <td>NaN</td>\n",
       "    </tr>\n",
       "  </tbody>\n",
       "</table>\n",
       "</div>"
      ],
      "text/plain": [
       "                            Indicator              Group          State  \\\n",
       "0  Delayed Medical Care, Last 4 Weeks  National Estimate  United States   \n",
       "1  Delayed Medical Care, Last 4 Weeks             By Age  United States   \n",
       "2  Delayed Medical Care, Last 4 Weeks             By Age  United States   \n",
       "3  Delayed Medical Care, Last 4 Weeks             By Age  United States   \n",
       "4  Delayed Medical Care, Last 4 Weeks             By Age  United States   \n",
       "\n",
       "        Subgroup Phase  Time Period Time Period Label  Time Period Start Date  \\\n",
       "0  United States     1            1    Apr 23 - May 5  04/23/2020 12:00:00 AM   \n",
       "1  18 - 29 years     1            1    Apr 23 - May 5  04/23/2020 12:00:00 AM   \n",
       "2  30 - 39 years     1            1    Apr 23 - May 5  04/23/2020 12:00:00 AM   \n",
       "3  40 - 49 years     1            1    Apr 23 - May 5  04/23/2020 12:00:00 AM   \n",
       "4  50 - 59 years     1            1    Apr 23 - May 5  04/23/2020 12:00:00 AM   \n",
       "\n",
       "     Time Period End Date  Value  Low CI  High CI Confidence Interval  \\\n",
       "0  05/05/2020 12:00:00 AM   38.7    38.1     39.4         38.1 - 39.4   \n",
       "1  05/05/2020 12:00:00 AM   34.8    32.5     37.2         32.5 - 37.2   \n",
       "2  05/05/2020 12:00:00 AM   37.3    35.6     39.0         35.6 - 39.0   \n",
       "3  05/05/2020 12:00:00 AM   40.3    39.0     41.7         39.0 - 41.7   \n",
       "4  05/05/2020 12:00:00 AM   40.7    39.3     42.2         39.3 - 42.2   \n",
       "\n",
       "  Quartile Range  \n",
       "0            NaN  \n",
       "1            NaN  \n",
       "2            NaN  \n",
       "3            NaN  \n",
       "4            NaN  "
      ]
     },
     "execution_count": 2,
     "metadata": {},
     "output_type": "execute_result"
    }
   ],
   "source": [
    "month = 'MAR'\n",
    "df = pd.read_csv(f\"DATA/{month} - Indicators_of_Reduced_Access_to_Care_Due_to_the_Coronavirus_Pandemic_During_Last_4_Weeks.csv\")\n",
    "df.head()"
   ]
  },
  {
   "cell_type": "code",
   "execution_count": 3,
   "metadata": {},
   "outputs": [
    {
     "name": "stdout",
     "output_type": "stream",
     "text": [
      "<class 'pandas.core.frame.DataFrame'>\n",
      "RangeIndex: 5154 entries, 0 to 5153\n",
      "Data columns (total 14 columns):\n",
      " #   Column                  Non-Null Count  Dtype  \n",
      "---  ------                  --------------  -----  \n",
      " 0   Indicator               5154 non-null   object \n",
      " 1   Group                   5154 non-null   object \n",
      " 2   State                   5154 non-null   object \n",
      " 3   Subgroup                5154 non-null   object \n",
      " 4   Phase                   5154 non-null   object \n",
      " 5   Time Period             5154 non-null   int64  \n",
      " 6   Time Period Label       5154 non-null   object \n",
      " 7   Time Period Start Date  5154 non-null   object \n",
      " 8   Time Period End Date    5154 non-null   object \n",
      " 9   Value                   5040 non-null   float64\n",
      " 10  Low CI                  5040 non-null   float64\n",
      " 11  High CI                 5040 non-null   float64\n",
      " 12  Confidence Interval     5040 non-null   object \n",
      " 13  Quartile Range          3672 non-null   object \n",
      "dtypes: float64(3), int64(1), object(10)\n",
      "memory usage: 563.8+ KB\n"
     ]
    }
   ],
   "source": [
    "# A quick look into dataframe info shows a number of missing values in the numeric columns and a significat issue with the Quartile Range\n",
    "\n",
    "df.info()"
   ]
  },
  {
   "cell_type": "code",
   "execution_count": 4,
   "metadata": {},
   "outputs": [
    {
     "data": {
      "text/plain": [
       "array([ 1,  2,  3,  4,  5,  6,  7,  8,  9, 10, 11, 12, 13, 14, 15, 16, 17,\n",
       "       18, 19, 20, 21, 22, 23, 24], dtype=int64)"
      ]
     },
     "execution_count": 4,
     "metadata": {},
     "output_type": "execute_result"
    }
   ],
   "source": [
    "# This column appears to be a counter for when the data was collected\n",
    "\n",
    "df['Time Period'].unique()"
   ]
  },
  {
   "cell_type": "code",
   "execution_count": 5,
   "metadata": {},
   "outputs": [
    {
     "data": {
      "text/plain": [
       "array(['Delayed Medical Care, Last 4 Weeks',\n",
       "       'Did Not Get Needed Care, Last 4 Weeks',\n",
       "       'Delayed or Did Not Get Care, Last 4 Weeks'], dtype=object)"
      ]
     },
     "execution_count": 5,
     "metadata": {},
     "output_type": "execute_result"
    }
   ],
   "source": [
    "# This column indicates what kind of delay covid casused, for our analyiss we will use Delayed or Did Not Get Care, Last 4 Weeks\n",
    "\n",
    "df.Indicator.unique()"
   ]
  },
  {
   "cell_type": "code",
   "execution_count": 6,
   "metadata": {},
   "outputs": [
    {
     "data": {
      "text/plain": [
       "array(['National Estimate', 'By Age', 'By Gender',\n",
       "       'By Race/Hispanic ethnicity', 'By Education', 'By State'],\n",
       "      dtype=object)"
      ]
     },
     "execution_count": 6,
     "metadata": {},
     "output_type": "execute_result"
    }
   ],
   "source": [
    "# This grouping breaks the data up into large segements\n",
    "\n",
    "df.Group.unique()"
   ]
  },
  {
   "cell_type": "code",
   "execution_count": 7,
   "metadata": {},
   "outputs": [
    {
     "data": {
      "text/plain": [
       "array(['United States', '18 - 29 years', '30 - 39 years', '40 - 49 years',\n",
       "       '50 - 59 years', '60 - 69 years', '70 - 79 years',\n",
       "       '80 years and above', 'Male', 'Female', 'Hispanic or Latino',\n",
       "       'Non-Hispanic white, single race',\n",
       "       'Non-Hispanic black, single race',\n",
       "       'Non-Hispanic Asian, single race',\n",
       "       'Non-Hispanic, other races and multiple races',\n",
       "       'Less than a high school diploma', 'High school diploma or GED',\n",
       "       \"Some college/Associate's degree\", \"Bachelor's degree or higher\",\n",
       "       'Alabama', 'Alaska', 'Arizona', 'Arkansas', 'California',\n",
       "       'Colorado', 'Connecticut', 'Delaware', 'District of Columbia',\n",
       "       'Florida', 'Georgia', 'Hawaii', 'Idaho', 'Illinois', 'Indiana',\n",
       "       'Iowa', 'Kansas', 'Kentucky', 'Louisiana', 'Maine', 'Maryland',\n",
       "       'Massachusetts', 'Michigan', 'Minnesota', 'Mississippi',\n",
       "       'Missouri', 'Montana', 'Nebraska', 'Nevada', 'New Hampshire',\n",
       "       'New Jersey', 'New Mexico', 'New York', 'North Carolina',\n",
       "       'North Dakota', 'Ohio', 'Oklahoma', 'Oregon', 'Pennsylvania',\n",
       "       'Rhode Island', 'South Carolina', 'South Dakota', 'Tennessee',\n",
       "       'Texas', 'Utah', 'Vermont', 'Virginia', 'Washington',\n",
       "       'West Virginia', 'Wisconsin', 'Wyoming'], dtype=object)"
      ]
     },
     "execution_count": 7,
     "metadata": {},
     "output_type": "execute_result"
    }
   ],
   "source": [
    "# This grouping breaks the data up into the specific segements, this is what we will end up using for our analysis\n",
    "\n",
    "df.Subgroup.unique()"
   ]
  },
  {
   "cell_type": "code",
   "execution_count": 8,
   "metadata": {},
   "outputs": [
    {
     "data": {
      "text/plain": [
       "array(['United States', 'Alabama', 'Alaska', 'Arizona', 'Arkansas',\n",
       "       'California', 'Colorado', 'Connecticut', 'Delaware',\n",
       "       'District of Columbia', 'Florida', 'Georgia', 'Hawaii', 'Idaho',\n",
       "       'Illinois', 'Indiana', 'Iowa', 'Kansas', 'Kentucky', 'Louisiana',\n",
       "       'Maine', 'Maryland', 'Massachusetts', 'Michigan', 'Minnesota',\n",
       "       'Mississippi', 'Missouri', 'Montana', 'Nebraska', 'Nevada',\n",
       "       'New Hampshire', 'New Jersey', 'New Mexico', 'New York',\n",
       "       'North Carolina', 'North Dakota', 'Ohio', 'Oklahoma', 'Oregon',\n",
       "       'Pennsylvania', 'Rhode Island', 'South Carolina', 'South Dakota',\n",
       "       'Tennessee', 'Texas', 'Utah', 'Vermont', 'Virginia', 'Washington',\n",
       "       'West Virginia', 'Wisconsin', 'Wyoming'], dtype=object)"
      ]
     },
     "execution_count": 8,
     "metadata": {},
     "output_type": "execute_result"
    }
   ],
   "source": [
    "# This column appears to break up the data into geographical areas based on states\n",
    "\n",
    "df.State.unique()"
   ]
  },
  {
   "cell_type": "code",
   "execution_count": 9,
   "metadata": {},
   "outputs": [
    {
     "data": {
      "text/plain": [
       "array(['United States', '18 - 29 years', '30 - 39 years', '40 - 49 years',\n",
       "       '50 - 59 years', '60 - 69 years', '70 - 79 years',\n",
       "       '80 years and above', 'Male', 'Female', 'Hispanic or Latino',\n",
       "       'Non-Hispanic white, single race',\n",
       "       'Non-Hispanic black, single race',\n",
       "       'Non-Hispanic Asian, single race',\n",
       "       'Non-Hispanic, other races and multiple races',\n",
       "       'Less than a high school diploma', 'High school diploma or GED',\n",
       "       \"Some college/Associate's degree\", \"Bachelor's degree or higher\"],\n",
       "      dtype=object)"
      ]
     },
     "execution_count": 9,
     "metadata": {},
     "output_type": "execute_result"
    }
   ],
   "source": [
    "# The United States value for this column appears to be the US average\n",
    "\n",
    "df[df.State == 'United States'].Subgroup.unique()"
   ]
  },
  {
   "cell_type": "code",
   "execution_count": 10,
   "metadata": {},
   "outputs": [
    {
     "data": {
      "text/plain": [
       "array(['Alabama'], dtype=object)"
      ]
     },
     "execution_count": 10,
     "metadata": {},
     "output_type": "execute_result"
    }
   ],
   "source": [
    "# Each state doesn't contain all the values in subgroup, just the State. Making this column not very useful\n",
    "\n",
    "df[df.State == 'Alabama'].Subgroup.unique()"
   ]
  },
  {
   "cell_type": "code",
   "execution_count": 11,
   "metadata": {},
   "outputs": [
    {
     "data": {
      "text/plain": [
       "'04/23/2020 12:00:00 AM'"
      ]
     },
     "execution_count": 11,
     "metadata": {},
     "output_type": "execute_result"
    }
   ],
   "source": [
    "# These time stamps are in string format and will need to be changed into datatime objects \n",
    "\n",
    "df['Time Period Start Date'].iloc[0]"
   ]
  },
  {
   "cell_type": "code",
   "execution_count": 12,
   "metadata": {},
   "outputs": [
    {
     "data": {
      "text/plain": [
       "'05/05/2020 12:00:00 AM'"
      ]
     },
     "execution_count": 12,
     "metadata": {},
     "output_type": "execute_result"
    }
   ],
   "source": [
    "# Having a state and end data timestamp probably won't be useful. We will probably end up using start date for our analysis \n",
    "\n",
    "df['Time Period End Date'].iloc[0]"
   ]
  },
  {
   "cell_type": "code",
   "execution_count": 13,
   "metadata": {},
   "outputs": [],
   "source": [
    "# Converting the time string to datetime objects \n",
    "\n",
    "df.loc[:,'Time Period Start Date'] = df['Time Period Start Date'].apply(lambda x: datetime.datetime.strptime(x[0:10], '%m/%d/%Y').date()) \n",
    "df.loc[:,'Time Period End Date'] = df['Time Period End Date'].apply(lambda x: datetime.datetime.strptime(x[0:10], '%m/%d/%Y').date()) "
   ]
  },
  {
   "cell_type": "code",
   "execution_count": 14,
   "metadata": {},
   "outputs": [
    {
     "data": {
      "text/html": [
       "<div>\n",
       "<style scoped>\n",
       "    .dataframe tbody tr th:only-of-type {\n",
       "        vertical-align: middle;\n",
       "    }\n",
       "\n",
       "    .dataframe tbody tr th {\n",
       "        vertical-align: top;\n",
       "    }\n",
       "\n",
       "    .dataframe thead th {\n",
       "        text-align: right;\n",
       "    }\n",
       "</style>\n",
       "<table border=\"1\" class=\"dataframe\">\n",
       "  <thead>\n",
       "    <tr style=\"text-align: right;\">\n",
       "      <th></th>\n",
       "      <th>Indicator</th>\n",
       "      <th>Group</th>\n",
       "      <th>State</th>\n",
       "      <th>Subgroup</th>\n",
       "      <th>Phase</th>\n",
       "      <th>Time Period</th>\n",
       "      <th>Time Period Label</th>\n",
       "      <th>Time Period Start Date</th>\n",
       "      <th>Time Period End Date</th>\n",
       "      <th>Value</th>\n",
       "      <th>Low CI</th>\n",
       "      <th>High CI</th>\n",
       "      <th>Confidence Interval</th>\n",
       "      <th>Quartile Range</th>\n",
       "    </tr>\n",
       "  </thead>\n",
       "  <tbody>\n",
       "    <tr>\n",
       "      <th>2520</th>\n",
       "      <td>Delayed Medical Care, Last 4 Weeks</td>\n",
       "      <td>National Estimate</td>\n",
       "      <td>United States</td>\n",
       "      <td>United States</td>\n",
       "      <td>-1</td>\n",
       "      <td>1</td>\n",
       "      <td>July 22 - Aug 18</td>\n",
       "      <td>2020-07-22</td>\n",
       "      <td>2020-08-18</td>\n",
       "      <td>NaN</td>\n",
       "      <td>NaN</td>\n",
       "      <td>NaN</td>\n",
       "      <td>NaN</td>\n",
       "      <td>NaN</td>\n",
       "    </tr>\n",
       "    <tr>\n",
       "      <th>2521</th>\n",
       "      <td>Delayed Medical Care, Last 4 Weeks</td>\n",
       "      <td>By Age</td>\n",
       "      <td>United States</td>\n",
       "      <td>18 - 29 years</td>\n",
       "      <td>-1</td>\n",
       "      <td>1</td>\n",
       "      <td>July 22 - Aug 18</td>\n",
       "      <td>2020-07-22</td>\n",
       "      <td>2020-08-18</td>\n",
       "      <td>NaN</td>\n",
       "      <td>NaN</td>\n",
       "      <td>NaN</td>\n",
       "      <td>NaN</td>\n",
       "      <td>NaN</td>\n",
       "    </tr>\n",
       "    <tr>\n",
       "      <th>2522</th>\n",
       "      <td>Delayed Medical Care, Last 4 Weeks</td>\n",
       "      <td>By Age</td>\n",
       "      <td>United States</td>\n",
       "      <td>30 - 39 years</td>\n",
       "      <td>-1</td>\n",
       "      <td>1</td>\n",
       "      <td>July 22 - Aug 18</td>\n",
       "      <td>2020-07-22</td>\n",
       "      <td>2020-08-18</td>\n",
       "      <td>NaN</td>\n",
       "      <td>NaN</td>\n",
       "      <td>NaN</td>\n",
       "      <td>NaN</td>\n",
       "      <td>NaN</td>\n",
       "    </tr>\n",
       "    <tr>\n",
       "      <th>2523</th>\n",
       "      <td>Delayed Medical Care, Last 4 Weeks</td>\n",
       "      <td>By Age</td>\n",
       "      <td>United States</td>\n",
       "      <td>40 - 49 years</td>\n",
       "      <td>-1</td>\n",
       "      <td>1</td>\n",
       "      <td>July 22 - Aug 18</td>\n",
       "      <td>2020-07-22</td>\n",
       "      <td>2020-08-18</td>\n",
       "      <td>NaN</td>\n",
       "      <td>NaN</td>\n",
       "      <td>NaN</td>\n",
       "      <td>NaN</td>\n",
       "      <td>NaN</td>\n",
       "    </tr>\n",
       "    <tr>\n",
       "      <th>2524</th>\n",
       "      <td>Delayed Medical Care, Last 4 Weeks</td>\n",
       "      <td>By Age</td>\n",
       "      <td>United States</td>\n",
       "      <td>50 - 59 years</td>\n",
       "      <td>-1</td>\n",
       "      <td>1</td>\n",
       "      <td>July 22 - Aug 18</td>\n",
       "      <td>2020-07-22</td>\n",
       "      <td>2020-08-18</td>\n",
       "      <td>NaN</td>\n",
       "      <td>NaN</td>\n",
       "      <td>NaN</td>\n",
       "      <td>NaN</td>\n",
       "      <td>NaN</td>\n",
       "    </tr>\n",
       "    <tr>\n",
       "      <th>...</th>\n",
       "      <td>...</td>\n",
       "      <td>...</td>\n",
       "      <td>...</td>\n",
       "      <td>...</td>\n",
       "      <td>...</td>\n",
       "      <td>...</td>\n",
       "      <td>...</td>\n",
       "      <td>...</td>\n",
       "      <td>...</td>\n",
       "      <td>...</td>\n",
       "      <td>...</td>\n",
       "      <td>...</td>\n",
       "      <td>...</td>\n",
       "      <td>...</td>\n",
       "    </tr>\n",
       "    <tr>\n",
       "      <th>4659</th>\n",
       "      <td>Delayed or Did Not Get Care, Last 4 Weeks</td>\n",
       "      <td>By Race/Hispanic ethnicity</td>\n",
       "      <td>United States</td>\n",
       "      <td>Non-Hispanic, other races and multiple races</td>\n",
       "      <td>-1</td>\n",
       "      <td>1</td>\n",
       "      <td>Dec 22 - Jan 5</td>\n",
       "      <td>2020-12-22</td>\n",
       "      <td>2021-01-05</td>\n",
       "      <td>NaN</td>\n",
       "      <td>NaN</td>\n",
       "      <td>NaN</td>\n",
       "      <td>NaN</td>\n",
       "      <td>NaN</td>\n",
       "    </tr>\n",
       "    <tr>\n",
       "      <th>4660</th>\n",
       "      <td>Delayed or Did Not Get Care, Last 4 Weeks</td>\n",
       "      <td>By Education</td>\n",
       "      <td>United States</td>\n",
       "      <td>Less than a high school diploma</td>\n",
       "      <td>-1</td>\n",
       "      <td>1</td>\n",
       "      <td>Dec 22 - Jan 5</td>\n",
       "      <td>2020-12-22</td>\n",
       "      <td>2021-01-05</td>\n",
       "      <td>NaN</td>\n",
       "      <td>NaN</td>\n",
       "      <td>NaN</td>\n",
       "      <td>NaN</td>\n",
       "      <td>NaN</td>\n",
       "    </tr>\n",
       "    <tr>\n",
       "      <th>4661</th>\n",
       "      <td>Delayed or Did Not Get Care, Last 4 Weeks</td>\n",
       "      <td>By Education</td>\n",
       "      <td>United States</td>\n",
       "      <td>High school diploma or GED</td>\n",
       "      <td>-1</td>\n",
       "      <td>1</td>\n",
       "      <td>Dec 22 - Jan 5</td>\n",
       "      <td>2020-12-22</td>\n",
       "      <td>2021-01-05</td>\n",
       "      <td>NaN</td>\n",
       "      <td>NaN</td>\n",
       "      <td>NaN</td>\n",
       "      <td>NaN</td>\n",
       "      <td>NaN</td>\n",
       "    </tr>\n",
       "    <tr>\n",
       "      <th>4662</th>\n",
       "      <td>Delayed or Did Not Get Care, Last 4 Weeks</td>\n",
       "      <td>By Education</td>\n",
       "      <td>United States</td>\n",
       "      <td>Some college/Associate's degree</td>\n",
       "      <td>-1</td>\n",
       "      <td>1</td>\n",
       "      <td>Dec 22 - Jan 5</td>\n",
       "      <td>2020-12-22</td>\n",
       "      <td>2021-01-05</td>\n",
       "      <td>NaN</td>\n",
       "      <td>NaN</td>\n",
       "      <td>NaN</td>\n",
       "      <td>NaN</td>\n",
       "      <td>NaN</td>\n",
       "    </tr>\n",
       "    <tr>\n",
       "      <th>4663</th>\n",
       "      <td>Delayed or Did Not Get Care, Last 4 Weeks</td>\n",
       "      <td>By Education</td>\n",
       "      <td>United States</td>\n",
       "      <td>Bachelor's degree or higher</td>\n",
       "      <td>-1</td>\n",
       "      <td>1</td>\n",
       "      <td>Dec 22 - Jan 5</td>\n",
       "      <td>2020-12-22</td>\n",
       "      <td>2021-01-05</td>\n",
       "      <td>NaN</td>\n",
       "      <td>NaN</td>\n",
       "      <td>NaN</td>\n",
       "      <td>NaN</td>\n",
       "      <td>NaN</td>\n",
       "    </tr>\n",
       "  </tbody>\n",
       "</table>\n",
       "<p>114 rows × 14 columns</p>\n",
       "</div>"
      ],
      "text/plain": [
       "                                      Indicator                       Group  \\\n",
       "2520         Delayed Medical Care, Last 4 Weeks           National Estimate   \n",
       "2521         Delayed Medical Care, Last 4 Weeks                      By Age   \n",
       "2522         Delayed Medical Care, Last 4 Weeks                      By Age   \n",
       "2523         Delayed Medical Care, Last 4 Weeks                      By Age   \n",
       "2524         Delayed Medical Care, Last 4 Weeks                      By Age   \n",
       "...                                         ...                         ...   \n",
       "4659  Delayed or Did Not Get Care, Last 4 Weeks  By Race/Hispanic ethnicity   \n",
       "4660  Delayed or Did Not Get Care, Last 4 Weeks                By Education   \n",
       "4661  Delayed or Did Not Get Care, Last 4 Weeks                By Education   \n",
       "4662  Delayed or Did Not Get Care, Last 4 Weeks                By Education   \n",
       "4663  Delayed or Did Not Get Care, Last 4 Weeks                By Education   \n",
       "\n",
       "              State                                      Subgroup Phase  \\\n",
       "2520  United States                                 United States    -1   \n",
       "2521  United States                                 18 - 29 years    -1   \n",
       "2522  United States                                 30 - 39 years    -1   \n",
       "2523  United States                                 40 - 49 years    -1   \n",
       "2524  United States                                 50 - 59 years    -1   \n",
       "...             ...                                           ...   ...   \n",
       "4659  United States  Non-Hispanic, other races and multiple races    -1   \n",
       "4660  United States               Less than a high school diploma    -1   \n",
       "4661  United States                    High school diploma or GED    -1   \n",
       "4662  United States               Some college/Associate's degree    -1   \n",
       "4663  United States                   Bachelor's degree or higher    -1   \n",
       "\n",
       "      Time Period Time Period Label Time Period Start Date  \\\n",
       "2520            1  July 22 - Aug 18             2020-07-22   \n",
       "2521            1  July 22 - Aug 18             2020-07-22   \n",
       "2522            1  July 22 - Aug 18             2020-07-22   \n",
       "2523            1  July 22 - Aug 18             2020-07-22   \n",
       "2524            1  July 22 - Aug 18             2020-07-22   \n",
       "...           ...               ...                    ...   \n",
       "4659            1    Dec 22 - Jan 5             2020-12-22   \n",
       "4660            1    Dec 22 - Jan 5             2020-12-22   \n",
       "4661            1    Dec 22 - Jan 5             2020-12-22   \n",
       "4662            1    Dec 22 - Jan 5             2020-12-22   \n",
       "4663            1    Dec 22 - Jan 5             2020-12-22   \n",
       "\n",
       "     Time Period End Date  Value  Low CI  High CI Confidence Interval  \\\n",
       "2520           2020-08-18    NaN     NaN      NaN                 NaN   \n",
       "2521           2020-08-18    NaN     NaN      NaN                 NaN   \n",
       "2522           2020-08-18    NaN     NaN      NaN                 NaN   \n",
       "2523           2020-08-18    NaN     NaN      NaN                 NaN   \n",
       "2524           2020-08-18    NaN     NaN      NaN                 NaN   \n",
       "...                   ...    ...     ...      ...                 ...   \n",
       "4659           2021-01-05    NaN     NaN      NaN                 NaN   \n",
       "4660           2021-01-05    NaN     NaN      NaN                 NaN   \n",
       "4661           2021-01-05    NaN     NaN      NaN                 NaN   \n",
       "4662           2021-01-05    NaN     NaN      NaN                 NaN   \n",
       "4663           2021-01-05    NaN     NaN      NaN                 NaN   \n",
       "\n",
       "     Quartile Range  \n",
       "2520            NaN  \n",
       "2521            NaN  \n",
       "2522            NaN  \n",
       "2523            NaN  \n",
       "2524            NaN  \n",
       "...             ...  \n",
       "4659            NaN  \n",
       "4660            NaN  \n",
       "4661            NaN  \n",
       "4662            NaN  \n",
       "4663            NaN  \n",
       "\n",
       "[114 rows x 14 columns]"
      ]
     },
     "execution_count": 14,
     "metadata": {},
     "output_type": "execute_result"
    }
   ],
   "source": [
    "# Value is the main indicator varable in the data, it has a number of missing values that must be delt with\n",
    "\n",
    "df[df.Value.isnull()]"
   ]
  },
  {
   "cell_type": "code",
   "execution_count": 15,
   "metadata": {},
   "outputs": [
    {
     "data": {
      "text/plain": [
       "array(['-1'], dtype=object)"
      ]
     },
     "execution_count": 15,
     "metadata": {},
     "output_type": "execute_result"
    }
   ],
   "source": [
    "# All the missing values in the Value field are in Phase -1\n",
    "\n",
    "df[df.Value.isnull()].Phase.unique()"
   ]
  },
  {
   "cell_type": "code",
   "execution_count": 16,
   "metadata": {},
   "outputs": [
    {
     "name": "stdout",
     "output_type": "stream",
     "text": [
      "<class 'pandas.core.frame.DataFrame'>\n",
      "Int64Index: 114 entries, 2520 to 4663\n",
      "Data columns (total 14 columns):\n",
      " #   Column                  Non-Null Count  Dtype  \n",
      "---  ------                  --------------  -----  \n",
      " 0   Indicator               114 non-null    object \n",
      " 1   Group                   114 non-null    object \n",
      " 2   State                   114 non-null    object \n",
      " 3   Subgroup                114 non-null    object \n",
      " 4   Phase                   114 non-null    object \n",
      " 5   Time Period             114 non-null    int64  \n",
      " 6   Time Period Label       114 non-null    object \n",
      " 7   Time Period Start Date  114 non-null    object \n",
      " 8   Time Period End Date    114 non-null    object \n",
      " 9   Value                   0 non-null      float64\n",
      " 10  Low CI                  0 non-null      float64\n",
      " 11  High CI                 0 non-null      float64\n",
      " 12  Confidence Interval     0 non-null      object \n",
      " 13  Quartile Range          0 non-null      object \n",
      "dtypes: float64(3), int64(1), object(10)\n",
      "memory usage: 13.4+ KB\n"
     ]
    }
   ],
   "source": [
    "# Looking at the info for Phase -1 we can safely removed it witout worring about losing other information\n",
    "\n",
    "df[df.Phase == '-1'].info()"
   ]
  },
  {
   "cell_type": "code",
   "execution_count": 17,
   "metadata": {},
   "outputs": [
    {
     "name": "stdout",
     "output_type": "stream",
     "text": [
      "<class 'pandas.core.frame.DataFrame'>\n",
      "Int64Index: 5040 entries, 0 to 5153\n",
      "Data columns (total 14 columns):\n",
      " #   Column                  Non-Null Count  Dtype  \n",
      "---  ------                  --------------  -----  \n",
      " 0   Indicator               5040 non-null   object \n",
      " 1   Group                   5040 non-null   object \n",
      " 2   State                   5040 non-null   object \n",
      " 3   Subgroup                5040 non-null   object \n",
      " 4   Phase                   5040 non-null   object \n",
      " 5   Time Period             5040 non-null   int64  \n",
      " 6   Time Period Label       5040 non-null   object \n",
      " 7   Time Period Start Date  5040 non-null   object \n",
      " 8   Time Period End Date    5040 non-null   object \n",
      " 9   Value                   5040 non-null   float64\n",
      " 10  Low CI                  5040 non-null   float64\n",
      " 11  High CI                 5040 non-null   float64\n",
      " 12  Confidence Interval     5040 non-null   object \n",
      " 13  Quartile Range          3672 non-null   object \n",
      "dtypes: float64(3), int64(1), object(10)\n",
      "memory usage: 590.6+ KB\n"
     ]
    }
   ],
   "source": [
    "# Removing Phase -1 also removes nearly all missing values, with the exception of the missing values in Quartile Range\n",
    "\n",
    "df = df[df.Phase != '-1']\n",
    "df.info()"
   ]
  },
  {
   "cell_type": "code",
   "execution_count": 18,
   "metadata": {},
   "outputs": [
    {
     "data": {
      "text/plain": [
       "array(['1', '2', '3 (Oct 28 � Dec 21)', '3 (Jan 6 � Feb 15)'],\n",
       "      dtype=object)"
      ]
     },
     "execution_count": 18,
     "metadata": {},
     "output_type": "execute_result"
    }
   ],
   "source": [
    "# Investigating the Phase column further we can see their are some strange values\n",
    "\n",
    "df.Phase.unique()"
   ]
  },
  {
   "cell_type": "code",
   "execution_count": 19,
   "metadata": {},
   "outputs": [
    {
     "data": {
      "text/plain": [
       "array([datetime.date(2020, 4, 23), datetime.date(2020, 5, 7),\n",
       "       datetime.date(2020, 5, 14), datetime.date(2020, 5, 21),\n",
       "       datetime.date(2020, 5, 28), datetime.date(2020, 6, 4),\n",
       "       datetime.date(2020, 6, 11), datetime.date(2020, 6, 18),\n",
       "       datetime.date(2020, 6, 25), datetime.date(2020, 7, 2),\n",
       "       datetime.date(2020, 7, 9), datetime.date(2020, 7, 16)],\n",
       "      dtype=object)"
      ]
     },
     "execution_count": 19,
     "metadata": {},
     "output_type": "execute_result"
    }
   ],
   "source": [
    "# Each phase appears to be a set of dates where data was collected\n",
    "\n",
    "df[df.Phase == '1']['Time Period Start Date'].unique()"
   ]
  },
  {
   "cell_type": "code",
   "execution_count": 20,
   "metadata": {},
   "outputs": [
    {
     "data": {
      "text/plain": [
       "array([datetime.date(2020, 8, 19), datetime.date(2020, 9, 2),\n",
       "       datetime.date(2020, 9, 16), datetime.date(2020, 9, 30),\n",
       "       datetime.date(2020, 10, 14)], dtype=object)"
      ]
     },
     "execution_count": 20,
     "metadata": {},
     "output_type": "execute_result"
    }
   ],
   "source": [
    "df[df.Phase == '2']['Time Period Start Date'].unique()"
   ]
  },
  {
   "cell_type": "code",
   "execution_count": 21,
   "metadata": {},
   "outputs": [
    {
     "data": {
      "text/plain": [
       "array([datetime.date(2020, 10, 28), datetime.date(2020, 11, 11),\n",
       "       datetime.date(2020, 11, 25), datetime.date(2020, 12, 9)],\n",
       "      dtype=object)"
      ]
     },
     "execution_count": 21,
     "metadata": {},
     "output_type": "execute_result"
    }
   ],
   "source": [
    "# While this phase has a strange name it does have dates and data associated with it\n",
    "\n",
    "df[df.Phase == '3 (Oct 28 � Dec 21)']['Time Period Start Date'].unique()"
   ]
  },
  {
   "cell_type": "code",
   "execution_count": 22,
   "metadata": {},
   "outputs": [],
   "source": [
    "# Replacing 3 (Oct 28 � Dec 21) with just 3\n",
    "\n",
    "df.loc[df.Phase == '3 (Oct 28 � Dec 21)', 'Phase'] = 3"
   ]
  },
  {
   "cell_type": "code",
   "execution_count": 23,
   "metadata": {},
   "outputs": [
    {
     "data": {
      "text/plain": [
       "array([datetime.date(2021, 1, 6), datetime.date(2021, 1, 20),\n",
       "       datetime.date(2021, 2, 3)], dtype=object)"
      ]
     },
     "execution_count": 23,
     "metadata": {},
     "output_type": "execute_result"
    }
   ],
   "source": [
    "# While this phase has a strange name it does have dates and data associated with it\n",
    "\n",
    "df[df.Phase == '3 (Jan 6 � Feb 15)']['Time Period Start Date'].unique()"
   ]
  },
  {
   "cell_type": "code",
   "execution_count": 24,
   "metadata": {},
   "outputs": [],
   "source": [
    "# Replacing 3 (Oct 28 � Dec 21) with just 3\n",
    "\n",
    "df.loc[df.Phase == '3 (Jan 6 � Feb 15)', 'Phase'] = 3"
   ]
  },
  {
   "cell_type": "code",
   "execution_count": 25,
   "metadata": {},
   "outputs": [
    {
     "data": {
      "text/plain": [
       "array(['1', '2', 3], dtype=object)"
      ]
     },
     "execution_count": 25,
     "metadata": {},
     "output_type": "execute_result"
    }
   ],
   "source": [
    "# Double checking Phase\n",
    "\n",
    "df.Phase.unique()"
   ]
  },
  {
   "cell_type": "markdown",
   "metadata": {},
   "source": [
    "### Final decisions\n",
    "After looking through the data provided by US Census Bureau we can make some final decisions on what data will be useful for visulization and modeling. \n",
    "\n",
    "- Indicator\n",
    "     - We will only keep the rows labeled **'Delayed or Did Not Get Care, Last 4 Weeks'** for our analysis\n",
    "     - After selecting for the label this column will be dropped\n",
    "- Group\n",
    "    - We will drop this column in favor of Subgroup\n",
    "- State\n",
    "    - We will drop this column, as we showed before it doesn't add anything not already in subgroup\n",
    "- Subgroup\n",
    "    - This is an important column for both visulizations and modeling\n",
    "- Phase\n",
    "    - This column may be used for visulizations and modeling so it will be kept\n",
    "- Time Period\n",
    "    - This column will be kept to help with modeling\n",
    "- Time Period Label\n",
    "    - This column doens't add any information not included in **Time Period State Date** or **Time Period End Date** and so will be dropped\n",
    "- Time Period Start Date\n",
    "    - This is an important date for tracking when each data point was collected\n",
    "- Time Period End Date\n",
    "    - We will drop this column and simply use **Time Period State Date** for all our time based indicators\n",
    "- Value\n",
    "    - This column contains the actual data collected and will be used for plotting and modeling\n",
    "- Low CI\n",
    "    - This column has the lower range for the value and may be useful for plotting and modeling\n",
    "- High CI\n",
    "    - This column has the high range for the value and may be useful for plotting and modeling\n",
    "- Confidence Interval\n",
    "    - We will drop this column, it doesn't have any information not contained in **Low CI** or **High CI**\n",
    "- Quartile Range\n",
    "    - We will drop this column, it is missing a number of values and so we will use the CI values instead of quartiles"
   ]
  },
  {
   "cell_type": "code",
   "execution_count": 26,
   "metadata": {},
   "outputs": [
    {
     "data": {
      "text/html": [
       "<div>\n",
       "<style scoped>\n",
       "    .dataframe tbody tr th:only-of-type {\n",
       "        vertical-align: middle;\n",
       "    }\n",
       "\n",
       "    .dataframe tbody tr th {\n",
       "        vertical-align: top;\n",
       "    }\n",
       "\n",
       "    .dataframe thead th {\n",
       "        text-align: right;\n",
       "    }\n",
       "</style>\n",
       "<table border=\"1\" class=\"dataframe\">\n",
       "  <thead>\n",
       "    <tr style=\"text-align: right;\">\n",
       "      <th></th>\n",
       "      <th>Indicator</th>\n",
       "      <th>Group</th>\n",
       "      <th>State</th>\n",
       "      <th>Subgroup</th>\n",
       "      <th>Phase</th>\n",
       "      <th>Time Period</th>\n",
       "      <th>Time Period Label</th>\n",
       "      <th>Time Period Start Date</th>\n",
       "      <th>Time Period End Date</th>\n",
       "      <th>Value</th>\n",
       "      <th>Low CI</th>\n",
       "      <th>High CI</th>\n",
       "      <th>Confidence Interval</th>\n",
       "      <th>Quartile Range</th>\n",
       "    </tr>\n",
       "  </thead>\n",
       "  <tbody>\n",
       "    <tr>\n",
       "      <th>0</th>\n",
       "      <td>Delayed Medical Care, Last 4 Weeks</td>\n",
       "      <td>National Estimate</td>\n",
       "      <td>United States</td>\n",
       "      <td>United States</td>\n",
       "      <td>1</td>\n",
       "      <td>1</td>\n",
       "      <td>Apr 23 - May 5</td>\n",
       "      <td>2020-04-23</td>\n",
       "      <td>2020-05-05</td>\n",
       "      <td>38.7</td>\n",
       "      <td>38.1</td>\n",
       "      <td>39.4</td>\n",
       "      <td>38.1 - 39.4</td>\n",
       "      <td>NaN</td>\n",
       "    </tr>\n",
       "    <tr>\n",
       "      <th>1</th>\n",
       "      <td>Delayed Medical Care, Last 4 Weeks</td>\n",
       "      <td>By Age</td>\n",
       "      <td>United States</td>\n",
       "      <td>18 - 29 years</td>\n",
       "      <td>1</td>\n",
       "      <td>1</td>\n",
       "      <td>Apr 23 - May 5</td>\n",
       "      <td>2020-04-23</td>\n",
       "      <td>2020-05-05</td>\n",
       "      <td>34.8</td>\n",
       "      <td>32.5</td>\n",
       "      <td>37.2</td>\n",
       "      <td>32.5 - 37.2</td>\n",
       "      <td>NaN</td>\n",
       "    </tr>\n",
       "    <tr>\n",
       "      <th>2</th>\n",
       "      <td>Delayed Medical Care, Last 4 Weeks</td>\n",
       "      <td>By Age</td>\n",
       "      <td>United States</td>\n",
       "      <td>30 - 39 years</td>\n",
       "      <td>1</td>\n",
       "      <td>1</td>\n",
       "      <td>Apr 23 - May 5</td>\n",
       "      <td>2020-04-23</td>\n",
       "      <td>2020-05-05</td>\n",
       "      <td>37.3</td>\n",
       "      <td>35.6</td>\n",
       "      <td>39.0</td>\n",
       "      <td>35.6 - 39.0</td>\n",
       "      <td>NaN</td>\n",
       "    </tr>\n",
       "    <tr>\n",
       "      <th>3</th>\n",
       "      <td>Delayed Medical Care, Last 4 Weeks</td>\n",
       "      <td>By Age</td>\n",
       "      <td>United States</td>\n",
       "      <td>40 - 49 years</td>\n",
       "      <td>1</td>\n",
       "      <td>1</td>\n",
       "      <td>Apr 23 - May 5</td>\n",
       "      <td>2020-04-23</td>\n",
       "      <td>2020-05-05</td>\n",
       "      <td>40.3</td>\n",
       "      <td>39.0</td>\n",
       "      <td>41.7</td>\n",
       "      <td>39.0 - 41.7</td>\n",
       "      <td>NaN</td>\n",
       "    </tr>\n",
       "    <tr>\n",
       "      <th>4</th>\n",
       "      <td>Delayed Medical Care, Last 4 Weeks</td>\n",
       "      <td>By Age</td>\n",
       "      <td>United States</td>\n",
       "      <td>50 - 59 years</td>\n",
       "      <td>1</td>\n",
       "      <td>1</td>\n",
       "      <td>Apr 23 - May 5</td>\n",
       "      <td>2020-04-23</td>\n",
       "      <td>2020-05-05</td>\n",
       "      <td>40.7</td>\n",
       "      <td>39.3</td>\n",
       "      <td>42.2</td>\n",
       "      <td>39.3 - 42.2</td>\n",
       "      <td>NaN</td>\n",
       "    </tr>\n",
       "    <tr>\n",
       "      <th>...</th>\n",
       "      <td>...</td>\n",
       "      <td>...</td>\n",
       "      <td>...</td>\n",
       "      <td>...</td>\n",
       "      <td>...</td>\n",
       "      <td>...</td>\n",
       "      <td>...</td>\n",
       "      <td>...</td>\n",
       "      <td>...</td>\n",
       "      <td>...</td>\n",
       "      <td>...</td>\n",
       "      <td>...</td>\n",
       "      <td>...</td>\n",
       "      <td>...</td>\n",
       "    </tr>\n",
       "    <tr>\n",
       "      <th>5149</th>\n",
       "      <td>Delayed or Did Not Get Care, Last 4 Weeks</td>\n",
       "      <td>By State</td>\n",
       "      <td>Virginia</td>\n",
       "      <td>Virginia</td>\n",
       "      <td>3</td>\n",
       "      <td>24</td>\n",
       "      <td>Feb 3 - Feb 15</td>\n",
       "      <td>2021-02-03</td>\n",
       "      <td>2021-02-15</td>\n",
       "      <td>34.7</td>\n",
       "      <td>31.0</td>\n",
       "      <td>38.5</td>\n",
       "      <td>31.0 - 38.5</td>\n",
       "      <td>32.5-35.0</td>\n",
       "    </tr>\n",
       "    <tr>\n",
       "      <th>5150</th>\n",
       "      <td>Delayed or Did Not Get Care, Last 4 Weeks</td>\n",
       "      <td>By State</td>\n",
       "      <td>Washington</td>\n",
       "      <td>Washington</td>\n",
       "      <td>3</td>\n",
       "      <td>24</td>\n",
       "      <td>Feb 3 - Feb 15</td>\n",
       "      <td>2021-02-03</td>\n",
       "      <td>2021-02-15</td>\n",
       "      <td>39.1</td>\n",
       "      <td>35.8</td>\n",
       "      <td>42.4</td>\n",
       "      <td>35.8 - 42.4</td>\n",
       "      <td>35.1-48.2</td>\n",
       "    </tr>\n",
       "    <tr>\n",
       "      <th>5151</th>\n",
       "      <td>Delayed or Did Not Get Care, Last 4 Weeks</td>\n",
       "      <td>By State</td>\n",
       "      <td>West Virginia</td>\n",
       "      <td>West Virginia</td>\n",
       "      <td>3</td>\n",
       "      <td>24</td>\n",
       "      <td>Feb 3 - Feb 15</td>\n",
       "      <td>2021-02-03</td>\n",
       "      <td>2021-02-15</td>\n",
       "      <td>40.6</td>\n",
       "      <td>35.1</td>\n",
       "      <td>46.2</td>\n",
       "      <td>35.1 - 46.2</td>\n",
       "      <td>35.1-48.2</td>\n",
       "    </tr>\n",
       "    <tr>\n",
       "      <th>5152</th>\n",
       "      <td>Delayed or Did Not Get Care, Last 4 Weeks</td>\n",
       "      <td>By State</td>\n",
       "      <td>Wisconsin</td>\n",
       "      <td>Wisconsin</td>\n",
       "      <td>3</td>\n",
       "      <td>24</td>\n",
       "      <td>Feb 3 - Feb 15</td>\n",
       "      <td>2021-02-03</td>\n",
       "      <td>2021-02-15</td>\n",
       "      <td>26.8</td>\n",
       "      <td>23.3</td>\n",
       "      <td>30.6</td>\n",
       "      <td>23.3 - 30.6</td>\n",
       "      <td>21.7-29.5</td>\n",
       "    </tr>\n",
       "    <tr>\n",
       "      <th>5153</th>\n",
       "      <td>Delayed or Did Not Get Care, Last 4 Weeks</td>\n",
       "      <td>By State</td>\n",
       "      <td>Wyoming</td>\n",
       "      <td>Wyoming</td>\n",
       "      <td>3</td>\n",
       "      <td>24</td>\n",
       "      <td>Feb 3 - Feb 15</td>\n",
       "      <td>2021-02-03</td>\n",
       "      <td>2021-02-15</td>\n",
       "      <td>30.7</td>\n",
       "      <td>25.7</td>\n",
       "      <td>36.1</td>\n",
       "      <td>25.7 - 36.1</td>\n",
       "      <td>29.6-32.4</td>\n",
       "    </tr>\n",
       "  </tbody>\n",
       "</table>\n",
       "<p>5040 rows × 14 columns</p>\n",
       "</div>"
      ],
      "text/plain": [
       "                                      Indicator              Group  \\\n",
       "0            Delayed Medical Care, Last 4 Weeks  National Estimate   \n",
       "1            Delayed Medical Care, Last 4 Weeks             By Age   \n",
       "2            Delayed Medical Care, Last 4 Weeks             By Age   \n",
       "3            Delayed Medical Care, Last 4 Weeks             By Age   \n",
       "4            Delayed Medical Care, Last 4 Weeks             By Age   \n",
       "...                                         ...                ...   \n",
       "5149  Delayed or Did Not Get Care, Last 4 Weeks           By State   \n",
       "5150  Delayed or Did Not Get Care, Last 4 Weeks           By State   \n",
       "5151  Delayed or Did Not Get Care, Last 4 Weeks           By State   \n",
       "5152  Delayed or Did Not Get Care, Last 4 Weeks           By State   \n",
       "5153  Delayed or Did Not Get Care, Last 4 Weeks           By State   \n",
       "\n",
       "              State       Subgroup Phase  Time Period Time Period Label  \\\n",
       "0     United States  United States     1            1    Apr 23 - May 5   \n",
       "1     United States  18 - 29 years     1            1    Apr 23 - May 5   \n",
       "2     United States  30 - 39 years     1            1    Apr 23 - May 5   \n",
       "3     United States  40 - 49 years     1            1    Apr 23 - May 5   \n",
       "4     United States  50 - 59 years     1            1    Apr 23 - May 5   \n",
       "...             ...            ...   ...          ...               ...   \n",
       "5149       Virginia       Virginia     3           24    Feb 3 - Feb 15   \n",
       "5150     Washington     Washington     3           24    Feb 3 - Feb 15   \n",
       "5151  West Virginia  West Virginia     3           24    Feb 3 - Feb 15   \n",
       "5152      Wisconsin      Wisconsin     3           24    Feb 3 - Feb 15   \n",
       "5153        Wyoming        Wyoming     3           24    Feb 3 - Feb 15   \n",
       "\n",
       "     Time Period Start Date Time Period End Date  Value  Low CI  High CI  \\\n",
       "0                2020-04-23           2020-05-05   38.7    38.1     39.4   \n",
       "1                2020-04-23           2020-05-05   34.8    32.5     37.2   \n",
       "2                2020-04-23           2020-05-05   37.3    35.6     39.0   \n",
       "3                2020-04-23           2020-05-05   40.3    39.0     41.7   \n",
       "4                2020-04-23           2020-05-05   40.7    39.3     42.2   \n",
       "...                     ...                  ...    ...     ...      ...   \n",
       "5149             2021-02-03           2021-02-15   34.7    31.0     38.5   \n",
       "5150             2021-02-03           2021-02-15   39.1    35.8     42.4   \n",
       "5151             2021-02-03           2021-02-15   40.6    35.1     46.2   \n",
       "5152             2021-02-03           2021-02-15   26.8    23.3     30.6   \n",
       "5153             2021-02-03           2021-02-15   30.7    25.7     36.1   \n",
       "\n",
       "     Confidence Interval Quartile Range  \n",
       "0            38.1 - 39.4            NaN  \n",
       "1            32.5 - 37.2            NaN  \n",
       "2            35.6 - 39.0            NaN  \n",
       "3            39.0 - 41.7            NaN  \n",
       "4            39.3 - 42.2            NaN  \n",
       "...                  ...            ...  \n",
       "5149         31.0 - 38.5      32.5-35.0  \n",
       "5150         35.8 - 42.4      35.1-48.2  \n",
       "5151         35.1 - 46.2      35.1-48.2  \n",
       "5152         23.3 - 30.6      21.7-29.5  \n",
       "5153         25.7 - 36.1      29.6-32.4  \n",
       "\n",
       "[5040 rows x 14 columns]"
      ]
     },
     "execution_count": 26,
     "metadata": {},
     "output_type": "execute_result"
    }
   ],
   "source": [
    "df"
   ]
  },
  {
   "cell_type": "code",
   "execution_count": 27,
   "metadata": {},
   "outputs": [],
   "source": [
    "# Column selection based on the notes above\n",
    "\n",
    "df = df[~df.Subgroup.isin(['With disability','Without disability'])]\n",
    "df = df[df['Indicator'] == 'Delayed or Did Not Get Care, Last 4 Weeks']\n",
    "df = df[['Subgroup', 'Phase', 'Time Period', 'Time Period Start Date', 'Time Period End Date', 'Value', 'Low CI', 'High CI']]"
   ]
  },
  {
   "cell_type": "code",
   "execution_count": 28,
   "metadata": {},
   "outputs": [],
   "source": [
    "# Saving the resulting dataframe\n",
    "\n",
    "df.to_csv(f'DATA/DATAFRAME_{month}_accessToCare.csv',index=False)"
   ]
  },
  {
   "cell_type": "code",
   "execution_count": null,
   "metadata": {},
   "outputs": [],
   "source": []
  },
  {
   "cell_type": "markdown",
   "metadata": {},
   "source": [
    "### June Data\n",
    "The second round of data was collected in June so that our model created with the March data could be checked. To do this the June data must be explored to ensure it has the same information and cleaned so that it is in the same format as the March data. "
   ]
  },
  {
   "cell_type": "code",
   "execution_count": 29,
   "metadata": {},
   "outputs": [
    {
     "data": {
      "text/html": [
       "<div>\n",
       "<style scoped>\n",
       "    .dataframe tbody tr th:only-of-type {\n",
       "        vertical-align: middle;\n",
       "    }\n",
       "\n",
       "    .dataframe tbody tr th {\n",
       "        vertical-align: top;\n",
       "    }\n",
       "\n",
       "    .dataframe thead th {\n",
       "        text-align: right;\n",
       "    }\n",
       "</style>\n",
       "<table border=\"1\" class=\"dataframe\">\n",
       "  <thead>\n",
       "    <tr style=\"text-align: right;\">\n",
       "      <th></th>\n",
       "      <th>Indicator</th>\n",
       "      <th>Group</th>\n",
       "      <th>State</th>\n",
       "      <th>Subgroup</th>\n",
       "      <th>Phase</th>\n",
       "      <th>Time Period</th>\n",
       "      <th>Time Period Label</th>\n",
       "      <th>Time Period Start Date</th>\n",
       "      <th>Time Period End Date</th>\n",
       "      <th>Value</th>\n",
       "      <th>Low CI</th>\n",
       "      <th>High CI</th>\n",
       "      <th>Confidence Interval</th>\n",
       "      <th>Quartile Range</th>\n",
       "    </tr>\n",
       "  </thead>\n",
       "  <tbody>\n",
       "    <tr>\n",
       "      <th>0</th>\n",
       "      <td>Delayed Medical Care, Last 4 Weeks</td>\n",
       "      <td>National Estimate</td>\n",
       "      <td>United States</td>\n",
       "      <td>United States</td>\n",
       "      <td>1</td>\n",
       "      <td>1</td>\n",
       "      <td>Apr 23 - May 5</td>\n",
       "      <td>2020-04-23</td>\n",
       "      <td>2020-05-05</td>\n",
       "      <td>38.7</td>\n",
       "      <td>38.1</td>\n",
       "      <td>39.4</td>\n",
       "      <td>38.1 - 39.4</td>\n",
       "      <td>NaN</td>\n",
       "    </tr>\n",
       "    <tr>\n",
       "      <th>1</th>\n",
       "      <td>Delayed Medical Care, Last 4 Weeks</td>\n",
       "      <td>By Age</td>\n",
       "      <td>United States</td>\n",
       "      <td>18 - 29 years</td>\n",
       "      <td>1</td>\n",
       "      <td>1</td>\n",
       "      <td>Apr 23 - May 5</td>\n",
       "      <td>2020-04-23</td>\n",
       "      <td>2020-05-05</td>\n",
       "      <td>34.8</td>\n",
       "      <td>32.5</td>\n",
       "      <td>37.2</td>\n",
       "      <td>32.5 - 37.2</td>\n",
       "      <td>NaN</td>\n",
       "    </tr>\n",
       "    <tr>\n",
       "      <th>2</th>\n",
       "      <td>Delayed Medical Care, Last 4 Weeks</td>\n",
       "      <td>By Age</td>\n",
       "      <td>United States</td>\n",
       "      <td>30 - 39 years</td>\n",
       "      <td>1</td>\n",
       "      <td>1</td>\n",
       "      <td>Apr 23 - May 5</td>\n",
       "      <td>2020-04-23</td>\n",
       "      <td>2020-05-05</td>\n",
       "      <td>37.3</td>\n",
       "      <td>35.6</td>\n",
       "      <td>39.0</td>\n",
       "      <td>35.6 - 39.0</td>\n",
       "      <td>NaN</td>\n",
       "    </tr>\n",
       "    <tr>\n",
       "      <th>3</th>\n",
       "      <td>Delayed Medical Care, Last 4 Weeks</td>\n",
       "      <td>By Age</td>\n",
       "      <td>United States</td>\n",
       "      <td>40 - 49 years</td>\n",
       "      <td>1</td>\n",
       "      <td>1</td>\n",
       "      <td>Apr 23 - May 5</td>\n",
       "      <td>2020-04-23</td>\n",
       "      <td>2020-05-05</td>\n",
       "      <td>40.3</td>\n",
       "      <td>39.0</td>\n",
       "      <td>41.7</td>\n",
       "      <td>39.0 - 41.7</td>\n",
       "      <td>NaN</td>\n",
       "    </tr>\n",
       "    <tr>\n",
       "      <th>4</th>\n",
       "      <td>Delayed Medical Care, Last 4 Weeks</td>\n",
       "      <td>By Age</td>\n",
       "      <td>United States</td>\n",
       "      <td>50 - 59 years</td>\n",
       "      <td>1</td>\n",
       "      <td>1</td>\n",
       "      <td>Apr 23 - May 5</td>\n",
       "      <td>2020-04-23</td>\n",
       "      <td>2020-05-05</td>\n",
       "      <td>40.7</td>\n",
       "      <td>39.3</td>\n",
       "      <td>42.2</td>\n",
       "      <td>39.3 - 42.2</td>\n",
       "      <td>NaN</td>\n",
       "    </tr>\n",
       "  </tbody>\n",
       "</table>\n",
       "</div>"
      ],
      "text/plain": [
       "                            Indicator              Group          State  \\\n",
       "0  Delayed Medical Care, Last 4 Weeks  National Estimate  United States   \n",
       "1  Delayed Medical Care, Last 4 Weeks             By Age  United States   \n",
       "2  Delayed Medical Care, Last 4 Weeks             By Age  United States   \n",
       "3  Delayed Medical Care, Last 4 Weeks             By Age  United States   \n",
       "4  Delayed Medical Care, Last 4 Weeks             By Age  United States   \n",
       "\n",
       "        Subgroup Phase  Time Period Time Period Label Time Period Start Date  \\\n",
       "0  United States     1            1    Apr 23 - May 5             2020-04-23   \n",
       "1  18 - 29 years     1            1    Apr 23 - May 5             2020-04-23   \n",
       "2  30 - 39 years     1            1    Apr 23 - May 5             2020-04-23   \n",
       "3  40 - 49 years     1            1    Apr 23 - May 5             2020-04-23   \n",
       "4  50 - 59 years     1            1    Apr 23 - May 5             2020-04-23   \n",
       "\n",
       "  Time Period End Date  Value  Low CI  High CI Confidence Interval  \\\n",
       "0           2020-05-05   38.7    38.1     39.4         38.1 - 39.4   \n",
       "1           2020-05-05   34.8    32.5     37.2         32.5 - 37.2   \n",
       "2           2020-05-05   37.3    35.6     39.0         35.6 - 39.0   \n",
       "3           2020-05-05   40.3    39.0     41.7         39.0 - 41.7   \n",
       "4           2020-05-05   40.7    39.3     42.2         39.3 - 42.2   \n",
       "\n",
       "  Quartile Range  \n",
       "0            NaN  \n",
       "1            NaN  \n",
       "2            NaN  \n",
       "3            NaN  \n",
       "4            NaN  "
      ]
     },
     "execution_count": 29,
     "metadata": {},
     "output_type": "execute_result"
    }
   ],
   "source": [
    "# Reading in the data and converting the date infomration to datetime format\n",
    "\n",
    "month = 'JUN'\n",
    "df = pd.read_csv(f\"DATA/{month} - Indicators_of_Reduced_Access_to_Care_Due_to_the_Coronavirus_Pandemic_During_Last_4_Weeks.csv\")\n",
    "df.loc[:,'Time Period Start Date'] = df['Time Period Start Date'].apply(lambda x: datetime.datetime.strptime(x[0:10], '%m/%d/%Y').date()) \n",
    "df.loc[:,'Time Period End Date'] = df['Time Period End Date'].apply(lambda x: datetime.datetime.strptime(x[0:10], '%m/%d/%Y').date()) \n",
    "df.head()"
   ]
  },
  {
   "cell_type": "code",
   "execution_count": 30,
   "metadata": {},
   "outputs": [
    {
     "name": "stdout",
     "output_type": "stream",
     "text": [
      "<class 'pandas.core.frame.DataFrame'>\n",
      "RangeIndex: 7118 entries, 0 to 7117\n",
      "Data columns (total 14 columns):\n",
      " #   Column                  Non-Null Count  Dtype  \n",
      "---  ------                  --------------  -----  \n",
      " 0   Indicator               7118 non-null   object \n",
      " 1   Group                   7118 non-null   object \n",
      " 2   State                   7118 non-null   object \n",
      " 3   Subgroup                7118 non-null   object \n",
      " 4   Phase                   7118 non-null   object \n",
      " 5   Time Period             7118 non-null   int64  \n",
      " 6   Time Period Label       7118 non-null   object \n",
      " 7   Time Period Start Date  7118 non-null   object \n",
      " 8   Time Period End Date    7118 non-null   object \n",
      " 9   Value                   6966 non-null   float64\n",
      " 10  Low CI                  6966 non-null   float64\n",
      " 11  High CI                 6966 non-null   float64\n",
      " 12  Confidence Interval     6966 non-null   object \n",
      " 13  Quartile Range          5049 non-null   object \n",
      "dtypes: float64(3), int64(1), object(10)\n",
      "memory usage: 778.7+ KB\n"
     ]
    }
   ],
   "source": [
    "# Looking at the dataframe info we see the same problem as before, missing values in our numeric columns as well as a problem with the Quartile Range\n",
    "\n",
    "df.info()"
   ]
  },
  {
   "cell_type": "code",
   "execution_count": 31,
   "metadata": {},
   "outputs": [
    {
     "data": {
      "text/plain": [
       "array([ 1,  2,  3,  4,  5,  6,  7,  8,  9, 10, 11, 12, 13, 14, 15, 16, 17,\n",
       "       18, 19, 20, 21, 22, 23, 24, 25, 26, 27, 28, 29, 30, 31, 32, 33],\n",
       "      dtype=int64)"
      ]
     },
     "execution_count": 31,
     "metadata": {},
     "output_type": "execute_result"
    }
   ],
   "source": [
    "# The time period column appears the same as before, just with a few more datapoints\n",
    "\n",
    "df['Time Period'].unique()"
   ]
  },
  {
   "cell_type": "code",
   "execution_count": 32,
   "metadata": {},
   "outputs": [
    {
     "data": {
      "text/plain": [
       "array(['Delayed Medical Care, Last 4 Weeks',\n",
       "       'Did Not Get Needed Care, Last 4 Weeks',\n",
       "       'Delayed or Did Not Get Care, Last 4 Weeks'], dtype=object)"
      ]
     },
     "execution_count": 32,
     "metadata": {},
     "output_type": "execute_result"
    }
   ],
   "source": [
    "# The Indicator column has the same information, once again we will only be keeping the 'Delayed or Did Not Get Care, Last 4 Weeks' values\n",
    "\n",
    "df.Indicator.unique()"
   ]
  },
  {
   "cell_type": "code",
   "execution_count": 33,
   "metadata": {},
   "outputs": [
    {
     "data": {
      "text/plain": [
       "array(['United States', '18 - 29 years', '30 - 39 years', '40 - 49 years',\n",
       "       '50 - 59 years', '60 - 69 years', '70 - 79 years',\n",
       "       '80 years and above', 'Male', 'Female', 'Hispanic or Latino',\n",
       "       'Non-Hispanic White, single race',\n",
       "       'Non-Hispanic Black, single race',\n",
       "       'Non-Hispanic Asian, single race',\n",
       "       'Non-Hispanic, other races and multiple races',\n",
       "       'Less than a high school diploma', 'High school diploma or GED',\n",
       "       \"Some college/Associate's degree\", \"Bachelor's degree or higher\",\n",
       "       'Alabama', 'Alaska', 'Arizona', 'Arkansas', 'California',\n",
       "       'Colorado', 'Connecticut', 'Delaware', 'District of Columbia',\n",
       "       'Florida', 'Georgia', 'Hawaii', 'Idaho', 'Illinois', 'Indiana',\n",
       "       'Iowa', 'Kansas', 'Kentucky', 'Louisiana', 'Maine', 'Maryland',\n",
       "       'Massachusetts', 'Michigan', 'Minnesota', 'Mississippi',\n",
       "       'Missouri', 'Montana', 'Nebraska', 'Nevada', 'New Hampshire',\n",
       "       'New Jersey', 'New Mexico', 'New York', 'North Carolina',\n",
       "       'North Dakota', 'Ohio', 'Oklahoma', 'Oregon', 'Pennsylvania',\n",
       "       'Rhode Island', 'South Carolina', 'South Dakota', 'Tennessee',\n",
       "       'Texas', 'Utah', 'Vermont', 'Virginia', 'Washington',\n",
       "       'West Virginia', 'Wisconsin', 'Wyoming', 'With disability',\n",
       "       'Without disability'], dtype=object)"
      ]
     },
     "execution_count": 33,
     "metadata": {},
     "output_type": "execute_result"
    }
   ],
   "source": [
    "# In subgroups we see a few extra values, With and Without disability have been added, for our analysis we will be removing them\n",
    "\n",
    "df.Subgroup.unique()"
   ]
  },
  {
   "cell_type": "code",
   "execution_count": 34,
   "metadata": {},
   "outputs": [],
   "source": [
    "# Removing With and Withouth disability from the subgroup column\n",
    "\n",
    "df = df[(df.Subgroup != 'With disability') & (df.Subgroup != 'Without disability')]"
   ]
  },
  {
   "cell_type": "code",
   "execution_count": 35,
   "metadata": {},
   "outputs": [
    {
     "data": {
      "text/plain": [
       "array(['United States', 'Alabama', 'Alaska', 'Arizona', 'Arkansas',\n",
       "       'California', 'Colorado', 'Connecticut', 'Delaware',\n",
       "       'District of Columbia', 'Florida', 'Georgia', 'Hawaii', 'Idaho',\n",
       "       'Illinois', 'Indiana', 'Iowa', 'Kansas', 'Kentucky', 'Louisiana',\n",
       "       'Maine', 'Maryland', 'Massachusetts', 'Michigan', 'Minnesota',\n",
       "       'Mississippi', 'Missouri', 'Montana', 'Nebraska', 'Nevada',\n",
       "       'New Hampshire', 'New Jersey', 'New Mexico', 'New York',\n",
       "       'North Carolina', 'North Dakota', 'Ohio', 'Oklahoma', 'Oregon',\n",
       "       'Pennsylvania', 'Rhode Island', 'South Carolina', 'South Dakota',\n",
       "       'Tennessee', 'Texas', 'Utah', 'Vermont', 'Virginia', 'Washington',\n",
       "       'West Virginia', 'Wisconsin', 'Wyoming'], dtype=object)"
      ]
     },
     "execution_count": 35,
     "metadata": {},
     "output_type": "execute_result"
    }
   ],
   "source": [
    "# The state column appears to have the same values\n",
    "\n",
    "df.State.unique()"
   ]
  },
  {
   "cell_type": "code",
   "execution_count": 36,
   "metadata": {},
   "outputs": [
    {
     "data": {
      "text/plain": [
       "array(['United States', '18 - 29 years', '30 - 39 years', '40 - 49 years',\n",
       "       '50 - 59 years', '60 - 69 years', '70 - 79 years',\n",
       "       '80 years and above', 'Male', 'Female', 'Hispanic or Latino',\n",
       "       'Non-Hispanic White, single race',\n",
       "       'Non-Hispanic Black, single race',\n",
       "       'Non-Hispanic Asian, single race',\n",
       "       'Non-Hispanic, other races and multiple races',\n",
       "       'Less than a high school diploma', 'High school diploma or GED',\n",
       "       \"Some college/Associate's degree\", \"Bachelor's degree or higher\"],\n",
       "      dtype=object)"
      ]
     },
     "execution_count": 36,
     "metadata": {},
     "output_type": "execute_result"
    }
   ],
   "source": [
    "# Onces again the United States value has the national average\n",
    "\n",
    "df[df.State == 'United States'].Subgroup.unique()"
   ]
  },
  {
   "cell_type": "code",
   "execution_count": 37,
   "metadata": {},
   "outputs": [
    {
     "data": {
      "text/plain": [
       "array(['Alabama'], dtype=object)"
      ]
     },
     "execution_count": 37,
     "metadata": {},
     "output_type": "execute_result"
    }
   ],
   "source": [
    "# The individual state values still only have data for the entire state, it would have been nice to see a better breakdown of the data in each state\n",
    "# as it stands the state column still isn't useful\n",
    "\n",
    "df[df.State == 'Alabama'].Subgroup.unique()"
   ]
  },
  {
   "cell_type": "code",
   "execution_count": 38,
   "metadata": {},
   "outputs": [
    {
     "data": {
      "text/plain": [
       "array(['1', '-1', '2', '3 (Oct 28 � Dec 21)', '3 (Jan 6 � Mar 29)', '3.1'],\n",
       "      dtype=object)"
      ]
     },
     "execution_count": 38,
     "metadata": {},
     "output_type": "execute_result"
    }
   ],
   "source": [
    "# Checking the Phase column we encounter the same strange values we found before\n",
    "\n",
    "df.Phase.unique()"
   ]
  },
  {
   "cell_type": "code",
   "execution_count": 39,
   "metadata": {},
   "outputs": [
    {
     "data": {
      "text/plain": [
       "array(['-1'], dtype=object)"
      ]
     },
     "execution_count": 39,
     "metadata": {},
     "output_type": "execute_result"
    }
   ],
   "source": [
    "# All the missing values in the Value field are in Phase -1\n",
    "\n",
    "df[df.Value.isnull()].Phase.unique()"
   ]
  },
  {
   "cell_type": "code",
   "execution_count": 40,
   "metadata": {},
   "outputs": [],
   "source": [
    "# Removing the Phase -1 as before\n",
    "\n",
    "df = df[df.Phase != '-1']"
   ]
  },
  {
   "cell_type": "code",
   "execution_count": 41,
   "metadata": {},
   "outputs": [
    {
     "data": {
      "text/plain": [
       "array([datetime.date(2020, 10, 28), datetime.date(2020, 11, 11),\n",
       "       datetime.date(2020, 11, 25), datetime.date(2020, 12, 9)],\n",
       "      dtype=object)"
      ]
     },
     "execution_count": 41,
     "metadata": {},
     "output_type": "execute_result"
    }
   ],
   "source": [
    "# Again we see the strage Phase values have dates and information associated with them so they will be kept\n",
    "\n",
    "df[df.Phase == '3 (Oct 28 � Dec 21)']['Time Period Start Date'].unique()"
   ]
  },
  {
   "cell_type": "code",
   "execution_count": 42,
   "metadata": {},
   "outputs": [
    {
     "data": {
      "text/plain": [
       "array([datetime.date(2021, 1, 6), datetime.date(2021, 1, 20),\n",
       "       datetime.date(2021, 2, 3), datetime.date(2021, 2, 17),\n",
       "       datetime.date(2021, 3, 3), datetime.date(2021, 3, 17)],\n",
       "      dtype=object)"
      ]
     },
     "execution_count": 42,
     "metadata": {},
     "output_type": "execute_result"
    }
   ],
   "source": [
    "# Again we see the strage Phase values have dates and information associated with them so they will be kept\n",
    "\n",
    "df[df.Phase == '3 (Jan 6 � Mar 29)']['Time Period Start Date'].unique()"
   ]
  },
  {
   "cell_type": "code",
   "execution_count": 43,
   "metadata": {},
   "outputs": [
    {
     "data": {
      "text/plain": [
       "array([datetime.date(2021, 4, 14), datetime.date(2021, 4, 28),\n",
       "       datetime.date(2021, 5, 12), datetime.date(2021, 5, 26),\n",
       "       datetime.date(2021, 6, 9), datetime.date(2021, 6, 23)],\n",
       "      dtype=object)"
      ]
     },
     "execution_count": 43,
     "metadata": {},
     "output_type": "execute_result"
    }
   ],
   "source": [
    "# This is a new one but it has values have dates and information associated with them so they will be kept\n",
    "\n",
    "df[df.Phase == '3.1']['Time Period Start Date'].unique()"
   ]
  },
  {
   "cell_type": "code",
   "execution_count": 44,
   "metadata": {},
   "outputs": [],
   "source": [
    "# Converting the different Phase values to be '3' for ease of use\n",
    "\n",
    "df.loc[df.Phase == '3 (Oct 28 � Dec 21)', 'Phase'] = 3\n",
    "df.loc[df.Phase == '3 (Jan 6 � Mar 29)', 'Phase'] = 3\n",
    "df.loc[df.Phase == '3.1', 'Phase'] = 3"
   ]
  },
  {
   "cell_type": "code",
   "execution_count": 45,
   "metadata": {},
   "outputs": [],
   "source": [
    "# Data is selected as before to make it easier to handle \n",
    "\n",
    "df = df[~df.Subgroup.isin(['With disability','Without disability'])]\n",
    "df = df[df['Indicator'] == 'Delayed or Did Not Get Care, Last 4 Weeks']\n",
    "df = df[['Subgroup', 'Phase', 'Time Period', 'Time Period Start Date', 'Time Period End Date', 'Value', 'Low CI', 'High CI']]"
   ]
  },
  {
   "cell_type": "code",
   "execution_count": 46,
   "metadata": {},
   "outputs": [],
   "source": [
    "# Saving the resulting dataframe\n",
    "\n",
    "df.to_csv(f'DATA/DATAFRAME_{month}_accessToCare.csv',index=False)"
   ]
  }
 ],
 "metadata": {
  "kernelspec": {
   "display_name": "Python 3",
   "language": "python",
   "name": "python3"
  },
  "language_info": {
   "codemirror_mode": {
    "name": "ipython",
    "version": 3
   },
   "file_extension": ".py",
   "mimetype": "text/x-python",
   "name": "python",
   "nbconvert_exporter": "python",
   "pygments_lexer": "ipython3",
   "version": "3.8.5"
  }
 },
 "nbformat": 4,
 "nbformat_minor": 4
}
